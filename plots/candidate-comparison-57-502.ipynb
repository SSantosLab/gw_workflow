{
 "cells": [
  {
   "cell_type": "code",
   "execution_count": 29,
   "metadata": {},
   "outputs": [],
   "source": [
    "import esutil as eu\n",
    "import numpy as np\n",
    "import matplotlib.pyplot as plt\n",
    "import pandas as pd\n",
    "\n",
    "from astropy.coordinates import SkyCoord\n",
    "from astropy import units as u"
   ]
  },
  {
   "cell_type": "code",
   "execution_count": 30,
   "metadata": {},
   "outputs": [],
   "source": [
    "# module to match objects\n",
    "h=eu.htm.HTM(10)"
   ]
  },
  {
   "cell_type": "code",
   "execution_count": 31,
   "metadata": {},
   "outputs": [],
   "source": [
    "# source file paths\n",
    "dp502data = \"/pnfs/des/persistent/gw/exp/20170817/668439/dp502/i_36/WS0502_668439_GW1971-233_combined_i_36+fakeSN_autoScan.out\"\n",
    "dp502radec = \"/pnfs/des/persistent/gw/exp/20170817/668439/dp502/i_36/WS0502_668439_GW1971-233_combined_i_36+fakeSN_filterObj.out\"\n",
    "\n",
    "dp57data = \"/data/des60.b/data/nglaeser/gw_workflow/diff5/WS0057_668439_WS1971-233_combined_i_36+fakeSN_autoScan.out\"\n",
    "dp57radec = \"/data/des60.b/data/nglaeser/gw_workflow/diff5/WS0057_668439_WS1971-233_combined_i_36+fakeSN_filterObj.out\""
   ]
  },
  {
   "cell_type": "code",
   "execution_count": 32,
   "metadata": {},
   "outputs": [
    {
     "data": {
      "text/html": [
       "<div>\n",
       "<style scoped>\n",
       "    .dataframe tbody tr th:only-of-type {\n",
       "        vertical-align: middle;\n",
       "    }\n",
       "\n",
       "    .dataframe tbody tr th {\n",
       "        vertical-align: top;\n",
       "    }\n",
       "\n",
       "    .dataframe thead th {\n",
       "        text-align: right;\n",
       "    }\n",
       "</style>\n",
       "<table border=\"1\" class=\"dataframe\">\n",
       "  <thead>\n",
       "    <tr style=\"text-align: right;\">\n",
       "      <th></th>\n",
       "      <th>SNOBJID</th>\n",
       "      <th>SCORE</th>\n",
       "      <th>FLUX</th>\n",
       "      <th>FLUX_ERR</th>\n",
       "      <th>RA</th>\n",
       "      <th>DEC</th>\n",
       "    </tr>\n",
       "  </thead>\n",
       "  <tbody>\n",
       "    <tr>\n",
       "      <th>35</th>\n",
       "      <td>10331171.0</td>\n",
       "      <td>0.96</td>\n",
       "      <td>367993.59375</td>\n",
       "      <td>1862.475</td>\n",
       "      <td>197.450366</td>\n",
       "      <td>-23.381511</td>\n",
       "    </tr>\n",
       "    <tr>\n",
       "      <th>37</th>\n",
       "      <td>10331173.0</td>\n",
       "      <td>0.96</td>\n",
       "      <td>560070.00000</td>\n",
       "      <td>2039.804</td>\n",
       "      <td>197.451498</td>\n",
       "      <td>-23.384707</td>\n",
       "    </tr>\n",
       "  </tbody>\n",
       "</table>\n",
       "</div>"
      ],
      "text/plain": [
       "       SNOBJID  SCORE          FLUX  FLUX_ERR          RA        DEC\n",
       "35  10331171.0   0.96  367993.59375  1862.475  197.450366 -23.381511\n",
       "37  10331173.0   0.96  560070.00000  2039.804  197.451498 -23.384707"
      ]
     },
     "execution_count": 32,
     "metadata": {},
     "output_type": "execute_result"
    }
   ],
   "source": [
    "#***** original dp502 data from /pnfs/ *****#\n",
    "data502 = np.genfromtxt(dp502data, usecols=(1,2,3), skip_header=3)\n",
    "df1= pd.DataFrame(data502, columns=[\"SNOBJID\", \"SCORE\", \"FLUX\"])\n",
    "\n",
    "# get the RA, DEC corresponding to the SNOBJIDs\n",
    "radec502 = np.genfromtxt(dp502radec, usecols=(1,17,8,9), skip_header=18, skip_footer=6)\n",
    "df2= pd.DataFrame(radec502, columns=[\"SNOBJID\", \"FLUX_ERR\", \"RA\",\"DEC\"])\n",
    "\n",
    "# merge on the ID\n",
    "dp502 = pd.merge(df1, df2, on=\"SNOBJID\")\n",
    "\n",
    "ra502=dp502[\"RA\"].values\n",
    "dec502=dp502[\"DEC\"].values\n",
    "\n",
    "# get significant candidates\n",
    "cand=dp502.loc[(dp502[\"SCORE\"] > 0.959) & (dp502[\"SCORE\"] < 0.961)]\n",
    "cand"
   ]
  },
  {
   "cell_type": "code",
   "execution_count": 33,
   "metadata": {},
   "outputs": [
    {
     "name": "stdout",
     "output_type": "stream",
     "text": [
      "DEC: -23:23:4.9452\n",
      "RA: 197:27:5.3928\n"
     ]
    }
   ],
   "source": [
    "# convert these candidates to hh:mm:ss\n",
    "decminutes=.384707*60\n",
    "decseconds=(decminutes-int(decminutes))*60\n",
    "\n",
    "raminutes=.451498*60\n",
    "raseconds=(raminutes-int(raminutes))*60\n",
    "\n",
    "print \"DEC: -23:%s:%s\" % (int(decminutes), decseconds)\n",
    "print \"RA: 197:%s:%s\" % (int(raminutes), raseconds)"
   ]
  },
  {
   "cell_type": "code",
   "execution_count": 34,
   "metadata": {},
   "outputs": [
    {
     "data": {
      "text/html": [
       "<div>\n",
       "<style scoped>\n",
       "    .dataframe tbody tr th:only-of-type {\n",
       "        vertical-align: middle;\n",
       "    }\n",
       "\n",
       "    .dataframe tbody tr th {\n",
       "        vertical-align: top;\n",
       "    }\n",
       "\n",
       "    .dataframe thead th {\n",
       "        text-align: right;\n",
       "    }\n",
       "</style>\n",
       "<table border=\"1\" class=\"dataframe\">\n",
       "  <thead>\n",
       "    <tr style=\"text-align: right;\">\n",
       "      <th></th>\n",
       "      <th>SNOBJID</th>\n",
       "      <th>SCORE</th>\n",
       "      <th>FLUX</th>\n",
       "      <th>FLUX_ERR</th>\n",
       "      <th>RA</th>\n",
       "      <th>DEC</th>\n",
       "    </tr>\n",
       "  </thead>\n",
       "  <tbody>\n",
       "    <tr>\n",
       "      <th>39</th>\n",
       "      <td>15935015.0</td>\n",
       "      <td>0.93</td>\n",
       "      <td>365781.5625</td>\n",
       "      <td>1875.716</td>\n",
       "      <td>197.450377</td>\n",
       "      <td>-23.381519</td>\n",
       "    </tr>\n",
       "  </tbody>\n",
       "</table>\n",
       "</div>"
      ],
      "text/plain": [
       "       SNOBJID  SCORE         FLUX  FLUX_ERR          RA        DEC\n",
       "39  15935015.0   0.93  365781.5625  1875.716  197.450377 -23.381519"
      ]
     },
     "execution_count": 34,
     "metadata": {},
     "output_type": "execute_result"
    }
   ],
   "source": [
    "# new data dp57 from diff5\n",
    "data57 = np.genfromtxt(dp57data, usecols=(1,2,3), skip_header=3)\n",
    "df3= pd.DataFrame(data57, columns=[\"SNOBJID\", \"SCORE\", \"FLUX\"])\n",
    "\n",
    "# get the RA, DEC corresponding to the SNOBJIDs\n",
    "radec57 = np.genfromtxt(dp57radec, usecols=(1,17,8,9), skip_header=18, skip_footer=6)\n",
    "df4= pd.DataFrame(radec57, columns=[\"SNOBJID\", \"FLUX_ERR\", \"RA\",\"DEC\"])\n",
    "\n",
    "# merge on the ID\n",
    "dp57 = pd.merge(df3, df4, on=\"SNOBJID\")\n",
    "\n",
    "ra57=dp57[\"RA\"].values\n",
    "dec57=dp57[\"DEC\"].values\n",
    "\n",
    "#dp57\n",
    "dp57.loc[(dp57[\"SCORE\"] > 0.9)]"
   ]
  },
  {
   "cell_type": "code",
   "execution_count": 35,
   "metadata": {},
   "outputs": [],
   "source": [
    "# match up coordinates\n",
    "matches502, matches57, dist = h.match(ra502, dec502, ra57, dec57, 3./3600, maxmatch=1)\n",
    "# match within 1 arcsec, best match only\n",
    "\n",
    "#print matches502\n",
    "#print matches57"
   ]
  },
  {
   "cell_type": "code",
   "execution_count": 36,
   "metadata": {},
   "outputs": [
    {
     "data": {
      "text/html": [
       "<div>\n",
       "<style scoped>\n",
       "    .dataframe tbody tr th:only-of-type {\n",
       "        vertical-align: middle;\n",
       "    }\n",
       "\n",
       "    .dataframe tbody tr th {\n",
       "        vertical-align: top;\n",
       "    }\n",
       "\n",
       "    .dataframe thead th {\n",
       "        text-align: right;\n",
       "    }\n",
       "</style>\n",
       "<table border=\"1\" class=\"dataframe\">\n",
       "  <thead>\n",
       "    <tr style=\"text-align: right;\">\n",
       "      <th></th>\n",
       "      <th>SNOBJID502</th>\n",
       "      <th>SCORE502</th>\n",
       "      <th>FLUX502</th>\n",
       "      <th>FLUX_ERR502</th>\n",
       "      <th>RA502</th>\n",
       "      <th>DEC502</th>\n",
       "      <th>SNOBJID57</th>\n",
       "      <th>SCORE57</th>\n",
       "      <th>FLUX57</th>\n",
       "      <th>FLUX_ERR57</th>\n",
       "      <th>RA57</th>\n",
       "      <th>DEC57</th>\n",
       "      <th>deltaML</th>\n",
       "      <th>SCORE</th>\n",
       "      <th>DELTA_FLUX</th>\n",
       "      <th>FLUX_ERR</th>\n",
       "    </tr>\n",
       "  </thead>\n",
       "  <tbody>\n",
       "    <tr>\n",
       "      <th>32</th>\n",
       "      <td>10331171.0</td>\n",
       "      <td>0.96</td>\n",
       "      <td>367993.59375</td>\n",
       "      <td>1862.475</td>\n",
       "      <td>197.450366</td>\n",
       "      <td>-23.381511</td>\n",
       "      <td>15935015.0</td>\n",
       "      <td>0.93</td>\n",
       "      <td>365781.5625</td>\n",
       "      <td>1875.716</td>\n",
       "      <td>197.450377</td>\n",
       "      <td>-23.381519</td>\n",
       "      <td>-0.03</td>\n",
       "      <td>0.945</td>\n",
       "      <td>-2212.03125</td>\n",
       "      <td>3738.191</td>\n",
       "    </tr>\n",
       "  </tbody>\n",
       "</table>\n",
       "</div>"
      ],
      "text/plain": [
       "    SNOBJID502  SCORE502       FLUX502  FLUX_ERR502       RA502     DEC502  \\\n",
       "32  10331171.0      0.96  367993.59375     1862.475  197.450366 -23.381511   \n",
       "\n",
       "     SNOBJID57  SCORE57       FLUX57  FLUX_ERR57        RA57      DEC57  \\\n",
       "32  15935015.0     0.93  365781.5625    1875.716  197.450377 -23.381519   \n",
       "\n",
       "    deltaML  SCORE  DELTA_FLUX  FLUX_ERR  \n",
       "32    -0.03  0.945 -2212.03125  3738.191  "
      ]
     },
     "execution_count": 36,
     "metadata": {},
     "output_type": "execute_result"
    }
   ],
   "source": [
    "overlaps=np.column_stack([np.array(dp502)[matches502],np.array(dp57)[matches57]])\n",
    "df5 = pd.DataFrame(overlaps, columns=[\"SNOBJID502\", \"SCORE502\", \"FLUX502\", \"FLUX_ERR502\", \"RA502\", \"DEC502\", \"SNOBJID57\", \"SCORE57\", \"FLUX57\", \"FLUX_ERR57\", \"RA57\", \"DEC57\"])\n",
    "\n",
    "# add deltaML row\n",
    "df5 = df5.assign(deltaML=pd.Series(df5[\"SCORE57\"]-df5[\"SCORE502\"]))\n",
    "# and an average score row\n",
    "df5 = df5.assign(SCORE=pd.Series(0.5*(df5[\"SCORE502\"]+df5[\"SCORE57\"])))\n",
    "# and a deltaflux row\n",
    "df5 = df5.assign(DELTA_FLUX=pd.Series(df5[\"FLUX57\"]-df5[\"FLUX502\"]))\n",
    "# AND a combined flux err row\n",
    "df5 = df5.assign(FLUX_ERR=pd.Series(df5[\"FLUX_ERR502\"]+df5[\"FLUX_ERR57\"]))\n",
    "\n",
    "only502=dp502.loc[~dp502[\"SNOBJID\"].isin(df5[\"SNOBJID502\"])]\n",
    "only57=dp57.loc[~dp57[\"SNOBJID\"].isin(df5[\"SNOBJID57\"])]\n",
    "\n",
    "df5.loc[(df5[\"SCORE502\"] > 0.959) & (df5[\"SCORE502\"] < 0.961)]"
   ]
  },
  {
   "cell_type": "code",
   "execution_count": 37,
   "metadata": {},
   "outputs": [
    {
     "data": {
      "image/png": "[encoded data removed]",
      "text/plain": [
       "<Figure size 432x288 with 1 Axes>"
      ]
     },
     "metadata": {},
     "output_type": "display_data"
    }
   ],
   "source": [
    "# plot RA,DEC of overlaps\n",
    "x1 = df5[\"RA502\"]\n",
    "y1 = df5[\"DEC502\"]\n",
    "\n",
    "x2 = df5[\"RA57\"]\n",
    "y2 = df5[\"DEC57\"]\n",
    "\n",
    "overlaps = plt.subplot()\n",
    "plt.xlabel('RA')\n",
    "plt.ylabel('DEC')\n",
    "plt.title('Overlapping Objects')\n",
    "\n",
    "plt.scatter(x1, y1, color=\"black\", label=\"dp502\")\n",
    "plt.scatter(x2, y2, color=\"red\", label=\"dp57\")\n",
    "plt.legend()\n",
    "\n",
    "plt.savefig('/data/des60.b/data/nglaeser/gw_workflow/plots/dp57-dp502/overlaps.png')"
   ]
  },
  {
   "cell_type": "code",
   "execution_count": 38,
   "metadata": {},
   "outputs": [
    {
     "data": {
      "image/png": "[encoded data removed]",
      "text/plain": [
       "<Figure size 432x288 with 1 Axes>"
      ]
     },
     "metadata": {},
     "output_type": "display_data"
    }
   ],
   "source": [
    "# of non-overlaps also\n",
    "x3 = only502[\"RA\"]\n",
    "y3 = only502[\"DEC\"]\n",
    "\n",
    "x4 = only57[\"RA\"]\n",
    "y4 = only57[\"DEC\"]\n",
    "\n",
    "plt.scatter(x3, y3, color=\"black\", label=\"dp502\")\n",
    "plt.scatter(x4, y4, color=\"red\", label=\"dp57\")\n",
    "\n",
    "plt.xlabel('RA')\n",
    "plt.ylabel('DEC')\n",
    "plt.title('Non-overlapping Objects')\n",
    "plt.legend()\n",
    "\n",
    "plt.savefig('/data/des60.b/data/nglaeser/gw_workflow/plots/dp57-dp502/nonoverlaps.png')"
   ]
  },
  {
   "cell_type": "code",
   "execution_count": 39,
   "metadata": {},
   "outputs": [
    {
     "data": {
      "text/plain": [
       "0.869281045751634"
      ]
     },
     "execution_count": 39,
     "metadata": {},
     "output_type": "execute_result"
    }
   ],
   "source": [
    "fraction=float(len(df5))/len(dp502)\n",
    "fraction"
   ]
  },
  {
   "cell_type": "code",
   "execution_count": 49,
   "metadata": {},
   "outputs": [
    {
     "data": {
      "image/png": "[encoded data removed]",
      "text/plain": [
       "<Figure size 432x288 with 1 Axes>"
      ]
     },
     "metadata": {},
     "output_type": "display_data"
    }
   ],
   "source": [
    "# plot ML score vs. delta ML score\n",
    "deltaML = df5[[\"SCORE\", \"deltaML\"]]\n",
    "\n",
    "# select only rows with similar ML scores\n",
    "deltaML = deltaML.loc[deltaML[\"deltaML\"] < 0.05]\n",
    "\n",
    "x = df5[\"SCORE502\"]\n",
    "y = df5[\"deltaML\"]\n",
    "\n",
    "plt.scatter(x, y)\n",
    "\n",
    "plt.axhline(y=0, color='k', lw=1)\n",
    "plt.axvline(x=0, color='k', lw=1)\n",
    "\n",
    "plt.xlabel('ML Score')\n",
    "plt.ylabel('Delta ML')\n",
    "plt.title('ML vs. delta ML')\n",
    "plt.legend()\n",
    "\n",
    "plt.savefig('/data/des60.b/data/nglaeser/gw_workflow/plots/dp57-dp502/deltaML.png')"
   ]
  },
  {
   "cell_type": "code",
   "execution_count": 41,
   "metadata": {},
   "outputs": [
    {
     "data": {
      "image/png": "[encoded data removed]",
      "text/plain": [
       "<Figure size 432x288 with 2 Axes>"
      ]
     },
     "metadata": {},
     "output_type": "display_data"
    }
   ],
   "source": [
    "# ML score bins vs. ratio overlap/old\n",
    "#***** (1)\"overlap\" as ra/dec only \n",
    "\n",
    "increment = 0.05\n",
    "bins = np.arange(0,1,increment)\n",
    "ratios = []\n",
    "overlaps = []\n",
    "olds = []\n",
    "for i in range(len(bins)-1):\n",
    "    overlap = len(df5.loc[(df5[\"SCORE\"]>=bins[i]) & (df5[\"SCORE\"]<bins[i+1])])\n",
    "    old=1\n",
    "    if overlap != 0:\n",
    "        old = len(dp502.loc[(dp502[\"SCORE\"]>=bins[i]) & (dp502[\"SCORE\"]<bins[i+1])])\n",
    "    #print \"bins: %s\\toverlap: %s\\told: %s\" % (bins[i], overlap, old)\n",
    "    \n",
    "    overlaps.append(overlap)\n",
    "    olds.append(old)\n",
    "    \n",
    "    if old == 0:\n",
    "        ratios.append(-1)\n",
    "        continue\n",
    "    ratios.append(float(overlap)/old)\n",
    "\n",
    "m1, (ax1, ax2) = plt.subplots(2, 1, sharex=True)\n",
    "ax1.bar(bins[:-1], ratios, increment, align='edge')\n",
    "ax1.axhline(y=0, color='k', lw=1)\n",
    "ax1.set_title('Score vs. Ratio')\n",
    "ax1.set_ylabel('Overlaps / old')\n",
    "\n",
    "ax2.bar(bins[:-1], overlaps, increment/2, color='blue', align='edge', label='overlaps')\n",
    "ax2.bar(bins[:-1]+increment/2, olds, increment/2, color='orange', align='edge', label='old')\n",
    "ax2.set_title('Score vs. Object Count')\n",
    "ax2.set_xlabel('ML Score')\n",
    "ax2.set_ylabel('Number of objects')\n",
    "\n",
    "handles, labels = ax2.get_legend_handles_labels()\n",
    "ax2.legend(handles, labels)\n",
    "m1.suptitle(\"Method 1\", fontsize=14)\n",
    "\n",
    "plt.savefig('/data/des60.b/data/nglaeser/gw_workflow/plots/dp57-dp502/ratios1.png')"
   ]
  },
  {
   "cell_type": "code",
   "execution_count": 42,
   "metadata": {},
   "outputs": [
    {
     "name": "stdout",
     "output_type": "stream",
     "text": [
      "0.857142857143\n"
     ]
    },
    {
     "data": {
      "image/png": "[encoded data removed]",
      "text/plain": [
       "<Figure size 432x288 with 2 Axes>"
      ]
     },
     "metadata": {},
     "output_type": "display_data"
    }
   ],
   "source": [
    "# ML score bins vs. ratio overlap/old\n",
    "#***** (2) ra/dec and deltaML < .05 ***\n",
    "\n",
    "# apply deltaML cut\n",
    "df6 = df5.loc[df5[\"deltaML\"]<0.05]\n",
    "print float(len(df6))/len(df5)\n",
    "\n",
    "increment = 0.05\n",
    "bins = np.arange(0,1,increment)\n",
    "ratios = []\n",
    "overlaps = []\n",
    "olds = []\n",
    "for i in range(len(bins)-1):\n",
    "    overlap = len(df6.loc[(df5[\"SCORE\"]>=bins[i]) & (df6[\"SCORE\"]<bins[i+1])])\n",
    "    old=1\n",
    "    if overlap != 0:\n",
    "        old = len(dp502.loc[(dp502[\"SCORE\"]>=bins[i]) & (dp502[\"SCORE\"]<bins[i+1])])\n",
    "    #print \"bins: %s\\toverlap: %s\\told: %s\" % (bins[i], overlap, old)\n",
    "    \n",
    "    overlaps.append(overlap)\n",
    "    olds.append(old)\n",
    "    \n",
    "    if old == 0:\n",
    "        ratios.append(-1)\n",
    "        continue\n",
    "    ratios.append(float(overlap)/old)\n",
    "\n",
    "m2, (ax1, ax2) = plt.subplots(2, 1, sharex=True)\n",
    "ax1.bar(bins[:-1], ratios, increment, align='edge')\n",
    "ax1.axhline(y=0, color='k', lw=1)\n",
    "ax1.set_title('Score vs. Ratio')\n",
    "ax1.set_ylabel('Overlaps / old')\n",
    "\n",
    "ax2.bar(bins[:-1], overlaps, increment/2, color='blue', align='edge', label='overlaps')\n",
    "ax2.bar(bins[:-1]+increment/2, olds, increment/2, color='orange', align='edge', label='old')\n",
    "ax2.set_title('Score vs. Object Count')\n",
    "ax2.set_xlabel('ML Score')\n",
    "ax2.set_ylabel('Number of objects')\n",
    "\n",
    "handles, labels = ax2.get_legend_handles_labels()\n",
    "ax2.legend(handles, labels)\n",
    "m2.suptitle(\"Method 2\", fontsize=14)\n",
    "\n",
    "plt.savefig('/data/des60.b/data/nglaeser/gw_workflow/plots/dp57-dp502/ratios2.png')"
   ]
  },
  {
   "cell_type": "code",
   "execution_count": 43,
   "metadata": {},
   "outputs": [
    {
     "name": "stdout",
     "output_type": "stream",
     "text": [
      "0.947368421053\n"
     ]
    },
    {
     "data": {
      "image/png": "[encoded data removed]",
      "text/plain": [
       "<Figure size 432x288 with 2 Axes>"
      ]
     },
     "metadata": {},
     "output_type": "display_data"
    }
   ],
   "source": [
    "# ML score bins vs. ratio overlap/old\n",
    "#**** (3) ra/dec and deltaFlux < 1sigma ***\n",
    "\n",
    "# apply deltaFlux cut\n",
    "df7 = df5.loc[(df5[\"DELTA_FLUX\"]/df5[\"FLUX_ERR\"])<1]\n",
    "print float(len(df7))/len(df5)\n",
    "\n",
    "increment = 0.05\n",
    "bins = np.arange(0,1,increment)\n",
    "ratios = []\n",
    "overlaps = []\n",
    "olds = []\n",
    "for i in range(len(bins)-1):\n",
    "    overlap = len(df7.loc[(df5[\"SCORE\"]>=bins[i]) & (df7[\"SCORE\"]<bins[i+1])])\n",
    "    old=1\n",
    "    if overlap != 0:\n",
    "        old = len(dp502.loc[(dp502[\"SCORE\"]>=bins[i]) & (dp502[\"SCORE\"]<bins[i+1])])\n",
    "    #print \"bins: %s\\toverlap: %s\\told: %s\" % (bins[i], overlap, old)\n",
    "    \n",
    "    overlaps.append(overlap)\n",
    "    olds.append(old)\n",
    "    \n",
    "    if old == 0:\n",
    "        ratios.append(-1)\n",
    "        continue\n",
    "    ratios.append(float(overlap)/old)\n",
    "\n",
    "m3, (ax1, ax2) = plt.subplots(2, 1, sharex=True)\n",
    "ax1.bar(bins[:-1], ratios, increment, align='edge')\n",
    "ax1.axhline(y=0, color='k', lw=1)\n",
    "ax1.set_title('Score vs. Ratio')\n",
    "ax1.set_ylabel('Overlaps / old')\n",
    "\n",
    "ax2.bar(bins[:-1], overlaps, increment/2, color='blue', align='edge', label='overlaps')\n",
    "ax2.bar(bins[:-1]+increment/2, olds, increment/2, color='orange', align='edge', label='old')\n",
    "ax2.set_title('Score vs. Object Count')\n",
    "ax2.set_xlabel('ML Score')\n",
    "ax2.set_ylabel('Number of objects')\n",
    "\n",
    "handles, labels = ax2.get_legend_handles_labels()\n",
    "ax2.legend(handles, labels)\n",
    "m3.suptitle(\"Method 3\", fontsize=14)\n",
    "\n",
    "plt.savefig('/data/des60.b/data/nglaeser/gw_workflow/plots/dp57-dp502/ratios3.png')\n",
    "\n",
    "# delta flux: flux_old and flux_new\n",
    "# if uncorrelated , new error = sqrt(sum of squares)\n",
    "# if correlated fully, new error = error_old+error_new <<<< do this one\n",
    "# if in between, covariance matrix (don't do this now)"
   ]
  },
  {
   "cell_type": "code",
   "execution_count": 44,
   "metadata": {},
   "outputs": [
    {
     "data": {
      "image/png": "[encoded data removed]",
      "text/plain": [
       "<Figure size 432x288 with 1 Axes>"
      ]
     },
     "metadata": {},
     "output_type": "display_data"
    }
   ],
   "source": [
    "# plot distrib of delta ML score (should be gaussian centered at 0, small width) (1d)\n",
    "\n",
    "increment=0.02\n",
    "bins = np.arange(-0.5,0.5,increment)\n",
    "data = df5[\"deltaML\"]\n",
    "n, bins, patches = plt.hist(data, bins, density=0, alpha=0.5)\n",
    "plt.title('Distribution of deltaML')\n",
    "plt.xlabel('deltaML')\n",
    "plt.ylabel('Count')\n",
    "\n",
    "#from scipy.stats import norm\n",
    "#mu, std = norm.fit(data)\n",
    "#x = np.linspace(min(data), max(data))\n",
    "#p = norm.pdf(x, mu, std)\n",
    "#plt.plot(x, p, 'k', linewidth=2)\n",
    "\n",
    "plt.savefig('/data/des60.b/data/nglaeser/gw_workflow/plots/dp57-dp502/deltaMLdistrib.png')"
   ]
  },
  {
   "cell_type": "code",
   "execution_count": 45,
   "metadata": {},
   "outputs": [
    {
     "name": "stdout",
     "output_type": "stream",
     "text": [
      "     SCORE          RA        DEC\n",
      "4    0.055  197.394709 -23.412819\n",
      "5    0.115  197.401146 -23.392692\n",
      "20   0.290  197.422168 -23.407433\n",
      "37   0.960  197.451498 -23.384707\n",
      "39   0.573  197.448848 -23.386741\n",
      "63   0.030  197.483256 -23.486625\n",
      "71   0.205  197.539243 -23.424755\n",
      "79   0.040  197.551780 -23.344558\n",
      "81   0.380  197.607692 -23.406482\n",
      "82   0.060  197.590197 -23.365984\n",
      "84   0.265  197.590424 -23.379469\n",
      "88   0.080  197.598120 -23.478217\n",
      "95   0.307  197.621954 -23.342951\n",
      "98   0.547  197.631142 -23.451223\n",
      "108  0.060  197.575367 -23.449831\n",
      "111  0.150  197.315425 -23.402227\n",
      "112  0.220  197.317656 -23.461251\n",
      "119  0.230  197.323880 -23.443671\n",
      "121  0.030  197.328637 -23.447374\n",
      "131  0.083  197.340751 -23.429512\n",
      "\n",
      "     SCORE          RA        DEC\n",
      "9    0.070  197.396059 -23.462614\n",
      "42   0.050  197.449936 -23.486009\n",
      "43   0.040  197.451935 -23.476512\n",
      "51   0.832  197.460322 -23.416678\n",
      "59   0.030  197.472339 -23.450509\n",
      "74   0.248  197.537943 -23.445251\n",
      "80   0.190  197.548496 -23.424353\n",
      "83   0.090  197.554034 -23.483663\n",
      "92   0.150  197.596053 -23.461422\n",
      "96   0.040  197.576992 -23.373696\n",
      "98   0.175  197.616104 -23.488439\n",
      "104  0.300  197.612650 -23.464993\n",
      "108  0.060  197.586139 -23.409046\n",
      "125  0.385  197.339436 -23.393789\n",
      "129  0.307  197.338999 -23.420291\n",
      "137  0.175  197.357823 -23.421546\n",
      "138  0.170  197.357300 -23.421151\n",
      "139  0.280  197.360290 -23.385991\n",
      "141  0.193  197.361045 -23.411998\n"
     ]
    }
   ],
   "source": [
    "# ML scores of non-overlap objects\n",
    "print only502[[\"SCORE\", \"RA\", \"DEC\"]]\n",
    "print\n",
    "print only57[[\"SCORE\", \"RA\", \"DEC\"]]"
   ]
  },
  {
   "cell_type": "code",
   "execution_count": 46,
   "metadata": {},
   "outputs": [
    {
     "data": {
      "image/png": "[encoded data removed]",
      "text/plain": [
       "<Figure size 432x288 with 2 Axes>"
      ]
     },
     "metadata": {},
     "output_type": "display_data"
    }
   ],
   "source": [
    "# non-overlap ML distribution\n",
    "increment=0.02\n",
    "bins = np.arange(0,1,increment)\n",
    "\n",
    "f, (ax1, ax2) = plt.subplots(2, 1, sharex=True)\n",
    "plt.suptitle('Distribution of ML Score', fontsize=14)\n",
    "plt.xlabel('ML Score')\n",
    "\n",
    "ax1.hist(only502[\"SCORE\"], bins, facecolor='blue', density=0, alpha=0.5, label='dp502')\n",
    "ax1.set_ylabel('Count')\n",
    "ax2.hist(only57[\"SCORE\"], bins, facecolor='red', density=0, alpha=0.5, label='dp57')\n",
    "ax2.set_ylabel('Count')\n",
    "\n",
    "f.legend()\n",
    "\n",
    "plt.savefig('/data/des60.b/data/nglaeser/gw_workflow/plots/dp57-dp502/unmatchedMLdistrib.png')"
   ]
  },
  {
   "cell_type": "markdown",
   "metadata": {},
   "source": [
    "# Objects\n",
    "### Overlaps\n",
    "\n",
    "Notice that, for the most part, the RA/DEC is very similar (tolerance 1\") so there is only one color showing:\n",
    "![Overlap objects](files/dp57-dp502/overlaps.png \"Overlaps\")\n",
    "Fraction = 0.8431372549019608\n",
    "\n",
    "### Non-overlaps\n",
    "![Non-overlap objects](files/dp57-dp502/nonoverlaps.png \"Non-overlaps\")\n",
    "\n",
    "# ML Scores\n",
    "### ML Score vs. $\\Delta{ML}$\n",
    "Where $\\Delta{ML} = ML_{new} - ML_{old}$\n",
    "![ML vs. deltaML](files/dp57-dp502/deltaML.png \"ML vs. deltaML\")\n",
    "\n",
    "### ML Score Bins vs. Count\n",
    "In three ways: (1) using only RA/DEC for overlap calculation, (2) using RA/DEC and $\\Delta{ML}<0.05$, and (3) using RA/DEC and $\\Delta{\\Phi}<1\\sigma$.\n",
    "\n",
    "| | \n",
    "-|-|-\n",
    "![ML vs. number and ratio of objects](files/dp57-dp502/ratios1.png \"ML vs. Count: Method 1\")| ![ML vs. number and ratio of objects](files/dp57-dp502/ratios2.png \"ML vs. Count: Method 2\") |![ML vs. number and ratio of objects](files/dp57-dp502/ratios3.png \"ML vs. Count: Method 3\") \n",
    " |Fraction = 0.860465116279 |Fraction = 0.961240310078 \n",
    "\n",
    "### ML Score Distribution\n",
    "$\\Delta{ML}$ distribution of matches:\n",
    "![DeltaML Distribution](files/dp57-dp502/deltaMLdistrib.png \"DeltaML Distribution\")\n",
    "\n",
    "ML score distribution of non-matches:\n",
    "![Unmatched ML Distribution](files/dp57-dp502/unmatchedMLdistrib.png \"ML Distribution of Unmatched Objects\")\n",
    "\n",
    "# Diffimg Comparison\n",
    "Left: dp57, right: dp502\n",
    "![diffimg side-by-side](files/dp57-dp502/dp57-dp502.png \"Diffimg side-by-side\")\n",
    "\n",
    "dp57 used both August and September templates while dp502 used **only** the (less noisy) August templates."
   ]
  },
  {
   "cell_type": "code",
   "execution_count": null,
   "metadata": {},
   "outputs": [],
   "source": []
  }
 ],
 "metadata": {
  "kernelspec": {
   "display_name": "Python 2",
   "language": "python",
   "name": "python2"
  },
  "language_info": {
   "codemirror_mode": {
    "name": "ipython",
    "version": 2
   },
   "file_extension": ".py",
   "mimetype": "text/x-python",
   "name": "python",
   "nbconvert_exporter": "python",
   "pygments_lexer": "ipython2",
   "version": "2.7.15"
  }
 },
 "nbformat": 4,
 "nbformat_minor": 2
}
