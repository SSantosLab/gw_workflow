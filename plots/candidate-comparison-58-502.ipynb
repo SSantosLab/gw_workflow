{
 "cells": [
  {
   "cell_type": "code",
   "execution_count": 1,
   "metadata": {},
   "outputs": [],
   "source": [
    "import esutil as eu\n",
    "import numpy as np\n",
    "import matplotlib.pyplot as plt\n",
    "import pandas as pd\n",
    "\n",
    "from astropy.coordinates import SkyCoord\n",
    "from astropy import units as u"
   ]
  },
  {
   "cell_type": "code",
   "execution_count": 2,
   "metadata": {},
   "outputs": [],
   "source": [
    "# module to match objects\n",
    "h=eu.htm.HTM(10)"
   ]
  },
  {
   "cell_type": "code",
   "execution_count": 3,
   "metadata": {},
   "outputs": [],
   "source": [
    "# source file paths\n",
    "dp502data = \"/pnfs/des/persistent/gw/exp/20170817/668439/dp502/i_36/WS0502_668439_GW1971-233_combined_i_36+fakeSN_autoScan.out\"\n",
    "dp502radec = \"/pnfs/des/persistent/gw/exp/20170817/668439/dp502/i_36/WS0502_668439_GW1971-233_combined_i_36+fakeSN_filterObj.out\"\n",
    "\n",
    "dp58data = \"/data/des60.b/data/nglaeser/gw_workflow/diff6/WS0058_668439_WS1971-233_combined_i_36+fakeSN_autoScan.out\"\n",
    "dp58radec = \"/data/des60.b/data/nglaeser/gw_workflow/diff6/WS0058_668439_WS1971-233_combined_i_36+fakeSN_filterObj.out\""
   ]
  },
  {
   "cell_type": "code",
   "execution_count": 4,
   "metadata": {},
   "outputs": [
    {
     "data": {
      "text/html": [
       "<div>\n",
       "<style scoped>\n",
       "    .dataframe tbody tr th:only-of-type {\n",
       "        vertical-align: middle;\n",
       "    }\n",
       "\n",
       "    .dataframe tbody tr th {\n",
       "        vertical-align: top;\n",
       "    }\n",
       "\n",
       "    .dataframe thead th {\n",
       "        text-align: right;\n",
       "    }\n",
       "</style>\n",
       "<table border=\"1\" class=\"dataframe\">\n",
       "  <thead>\n",
       "    <tr style=\"text-align: right;\">\n",
       "      <th></th>\n",
       "      <th>SNOBJID</th>\n",
       "      <th>SCORE</th>\n",
       "      <th>FLUX</th>\n",
       "      <th>FLUX_ERR</th>\n",
       "      <th>RA</th>\n",
       "      <th>DEC</th>\n",
       "    </tr>\n",
       "  </thead>\n",
       "  <tbody>\n",
       "    <tr>\n",
       "      <th>35</th>\n",
       "      <td>10331171.0</td>\n",
       "      <td>0.96</td>\n",
       "      <td>367993.59375</td>\n",
       "      <td>1862.475</td>\n",
       "      <td>197.450366</td>\n",
       "      <td>-23.381511</td>\n",
       "    </tr>\n",
       "    <tr>\n",
       "      <th>37</th>\n",
       "      <td>10331173.0</td>\n",
       "      <td>0.96</td>\n",
       "      <td>560070.00000</td>\n",
       "      <td>2039.804</td>\n",
       "      <td>197.451498</td>\n",
       "      <td>-23.384707</td>\n",
       "    </tr>\n",
       "  </tbody>\n",
       "</table>\n",
       "</div>"
      ],
      "text/plain": [
       "       SNOBJID  SCORE          FLUX  FLUX_ERR          RA        DEC\n",
       "35  10331171.0   0.96  367993.59375  1862.475  197.450366 -23.381511\n",
       "37  10331173.0   0.96  560070.00000  2039.804  197.451498 -23.384707"
      ]
     },
     "execution_count": 4,
     "metadata": {},
     "output_type": "execute_result"
    }
   ],
   "source": [
    "#***** original dp502 data from /pnfs/ *****#\n",
    "data502 = np.genfromtxt(dp502data, usecols=(1,2,3), skip_header=3)\n",
    "df1= pd.DataFrame(data502, columns=[\"SNOBJID\", \"SCORE\", \"FLUX\"])\n",
    "\n",
    "# get the RA, DEC corresponding to the SNOBJIDs\n",
    "radec502 = np.genfromtxt(dp502radec, usecols=(1,17,8,9), skip_header=18, skip_footer=6)\n",
    "df2= pd.DataFrame(radec502, columns=[\"SNOBJID\", \"FLUX_ERR\", \"RA\",\"DEC\"])\n",
    "\n",
    "# merge on the ID\n",
    "dp502 = pd.merge(df1, df2, on=\"SNOBJID\")\n",
    "\n",
    "ra502=dp502[\"RA\"].values\n",
    "dec502=dp502[\"DEC\"].values\n",
    "\n",
    "# get significant candidates\n",
    "cand=dp502.loc[(dp502[\"SCORE\"] > 0.959) & (dp502[\"SCORE\"] < 0.961)]\n",
    "cand"
   ]
  },
  {
   "cell_type": "code",
   "execution_count": 5,
   "metadata": {},
   "outputs": [
    {
     "name": "stdout",
     "output_type": "stream",
     "text": [
      "DEC: -23:23:4.9452\n",
      "RA: 197:27:5.3928\n"
     ]
    }
   ],
   "source": [
    "# convert these candidates to hh:mm:ss\n",
    "decminutes=.384707*60\n",
    "decseconds=(decminutes-int(decminutes))*60\n",
    "\n",
    "raminutes=.451498*60\n",
    "raseconds=(raminutes-int(raminutes))*60\n",
    "\n",
    "print \"DEC: -23:%s:%s\" % (int(decminutes), decseconds)\n",
    "print \"RA: 197:%s:%s\" % (int(raminutes), raseconds)"
   ]
  },
  {
   "cell_type": "code",
   "execution_count": 6,
   "metadata": {
    "scrolled": true
   },
   "outputs": [
    {
     "data": {
      "text/html": [
       "<div>\n",
       "<style scoped>\n",
       "    .dataframe tbody tr th:only-of-type {\n",
       "        vertical-align: middle;\n",
       "    }\n",
       "\n",
       "    .dataframe tbody tr th {\n",
       "        vertical-align: top;\n",
       "    }\n",
       "\n",
       "    .dataframe thead th {\n",
       "        text-align: right;\n",
       "    }\n",
       "</style>\n",
       "<table border=\"1\" class=\"dataframe\">\n",
       "  <thead>\n",
       "    <tr style=\"text-align: right;\">\n",
       "      <th></th>\n",
       "      <th>SNOBJID</th>\n",
       "      <th>SCORE</th>\n",
       "      <th>FLUX</th>\n",
       "      <th>FLUX_ERR</th>\n",
       "      <th>RA</th>\n",
       "      <th>DEC</th>\n",
       "    </tr>\n",
       "  </thead>\n",
       "  <tbody>\n",
       "    <tr>\n",
       "      <th>80</th>\n",
       "      <td>15935231.0</td>\n",
       "      <td>0.83</td>\n",
       "      <td>339997.25</td>\n",
       "      <td>1835.14</td>\n",
       "      <td>197.450383</td>\n",
       "      <td>-23.381556</td>\n",
       "    </tr>\n",
       "  </tbody>\n",
       "</table>\n",
       "</div>"
      ],
      "text/plain": [
       "       SNOBJID  SCORE       FLUX  FLUX_ERR          RA        DEC\n",
       "80  15935231.0   0.83  339997.25   1835.14  197.450383 -23.381556"
      ]
     },
     "execution_count": 6,
     "metadata": {},
     "output_type": "execute_result"
    }
   ],
   "source": [
    "# new data dp58 from diff6\n",
    "data58 = np.genfromtxt(dp58data, usecols=(1,2,3), skip_header=3)\n",
    "df3= pd.DataFrame(data58, columns=[\"SNOBJID\", \"SCORE\", \"FLUX\"])\n",
    "\n",
    "# get the RA, DEC corresponding to the SNOBJIDs\n",
    "radec58 = np.genfromtxt(dp58radec, usecols=(1,17,8,9), skip_header=18, skip_footer=6)\n",
    "df4= pd.DataFrame(radec58, columns=[\"SNOBJID\", \"FLUX_ERR\", \"RA\",\"DEC\"])\n",
    "\n",
    "# merge on the ID\n",
    "dp58 = pd.merge(df3, df4, on=\"SNOBJID\")\n",
    "\n",
    "ra58=dp58[\"RA\"].values\n",
    "dec58=dp58[\"DEC\"].values\n",
    "\n",
    "#dp58\n",
    "dp58.loc[(dp58[\"SCORE\"] > 0.8)]"
   ]
  },
  {
   "cell_type": "code",
   "execution_count": 7,
   "metadata": {},
   "outputs": [],
   "source": [
    "# match up coordinates\n",
    "matches502, matches58, dist = h.match(ra502, dec502, ra58, dec58, 1./3600, maxmatch=1)\n",
    "# match within 1 arcsec, best match only\n",
    "\n",
    "#print matches502\n",
    "#print matches58"
   ]
  },
  {
   "cell_type": "code",
   "execution_count": 8,
   "metadata": {},
   "outputs": [
    {
     "data": {
      "text/html": [
       "<div>\n",
       "<style scoped>\n",
       "    .dataframe tbody tr th:only-of-type {\n",
       "        vertical-align: middle;\n",
       "    }\n",
       "\n",
       "    .dataframe tbody tr th {\n",
       "        vertical-align: top;\n",
       "    }\n",
       "\n",
       "    .dataframe thead th {\n",
       "        text-align: right;\n",
       "    }\n",
       "</style>\n",
       "<table border=\"1\" class=\"dataframe\">\n",
       "  <thead>\n",
       "    <tr style=\"text-align: right;\">\n",
       "      <th></th>\n",
       "      <th>SNOBJID502</th>\n",
       "      <th>SCORE502</th>\n",
       "      <th>FLUX502</th>\n",
       "      <th>FLUX_ERR502</th>\n",
       "      <th>RA502</th>\n",
       "      <th>DEC502</th>\n",
       "      <th>SNOBJID58</th>\n",
       "      <th>SCORE58</th>\n",
       "      <th>FLUX58</th>\n",
       "      <th>FLUX_ERR58</th>\n",
       "      <th>RA58</th>\n",
       "      <th>DEC58</th>\n",
       "      <th>deltaML</th>\n",
       "      <th>SCORE</th>\n",
       "      <th>DELTA_FLUX</th>\n",
       "      <th>FLUX_ERR</th>\n",
       "    </tr>\n",
       "  </thead>\n",
       "  <tbody>\n",
       "    <tr>\n",
       "      <th>35</th>\n",
       "      <td>10331171.0</td>\n",
       "      <td>0.96</td>\n",
       "      <td>367993.59375</td>\n",
       "      <td>1862.475</td>\n",
       "      <td>197.450366</td>\n",
       "      <td>-23.381511</td>\n",
       "      <td>15935231.0</td>\n",
       "      <td>0.83</td>\n",
       "      <td>339997.25</td>\n",
       "      <td>1835.14</td>\n",
       "      <td>197.450383</td>\n",
       "      <td>-23.381556</td>\n",
       "      <td>-0.13</td>\n",
       "      <td>0.895</td>\n",
       "      <td>-27996.34375</td>\n",
       "      <td>3697.615</td>\n",
       "    </tr>\n",
       "  </tbody>\n",
       "</table>\n",
       "</div>"
      ],
      "text/plain": [
       "    SNOBJID502  SCORE502       FLUX502  FLUX_ERR502       RA502     DEC502  \\\n",
       "35  10331171.0      0.96  367993.59375     1862.475  197.450366 -23.381511   \n",
       "\n",
       "     SNOBJID58  SCORE58     FLUX58  FLUX_ERR58        RA58      DEC58  \\\n",
       "35  15935231.0     0.83  339997.25     1835.14  197.450383 -23.381556   \n",
       "\n",
       "    deltaML  SCORE   DELTA_FLUX  FLUX_ERR  \n",
       "35    -0.13  0.895 -27996.34375  3697.615  "
      ]
     },
     "execution_count": 8,
     "metadata": {},
     "output_type": "execute_result"
    }
   ],
   "source": [
    "overlaps=np.column_stack([np.array(dp502)[matches502],np.array(dp58)[matches58]])\n",
    "df5 = pd.DataFrame(overlaps, columns=[\"SNOBJID502\", \"SCORE502\", \"FLUX502\", \"FLUX_ERR502\", \"RA502\", \"DEC502\", \"SNOBJID58\", \"SCORE58\", \"FLUX58\", \"FLUX_ERR58\", \"RA58\", \"DEC58\"])\n",
    "\n",
    "# add deltaML row\n",
    "df5 = df5.assign(deltaML=pd.Series(df5[\"SCORE58\"]-df5[\"SCORE502\"]))\n",
    "# and an average score row\n",
    "df5 = df5.assign(SCORE=pd.Series(0.5*(df5[\"SCORE502\"]+df5[\"SCORE58\"])))\n",
    "# and a deltaflux row\n",
    "df5 = df5.assign(DELTA_FLUX=pd.Series(df5[\"FLUX58\"]-df5[\"FLUX502\"]))\n",
    "# AND a combined flux err row\n",
    "df5 = df5.assign(FLUX_ERR=pd.Series(df5[\"FLUX_ERR502\"]+df5[\"FLUX_ERR58\"]))\n",
    "\n",
    "only502=dp502.loc[~dp502[\"SNOBJID\"].isin(df5[\"SNOBJID502\"])]\n",
    "only58=dp58.loc[~dp58[\"SNOBJID\"].isin(df5[\"SNOBJID58\"])]\n",
    "\n",
    "df5.loc[(df5[\"SCORE502\"] > 0.959) & (df5[\"SCORE502\"] < 0.961)]"
   ]
  },
  {
   "cell_type": "code",
   "execution_count": 9,
   "metadata": {},
   "outputs": [
    {
     "data": {
      "image/png": "[encoded data removed]",
      "text/plain": [
       "<Figure size 432x288 with 1 Axes>"
      ]
     },
     "metadata": {},
     "output_type": "display_data"
    }
   ],
   "source": [
    "# plot RA,DEC of overlaps\n",
    "x1 = df5[\"RA502\"]\n",
    "y1 = df5[\"DEC502\"]\n",
    "\n",
    "x2 = df5[\"RA58\"]\n",
    "y2 = df5[\"DEC58\"]\n",
    "\n",
    "overlaps = plt.subplot()\n",
    "plt.xlabel('RA')\n",
    "plt.ylabel('DEC')\n",
    "plt.title('Overlapping Objects')\n",
    "\n",
    "plt.scatter(x1, y1, color=\"black\", label=\"dp502\")\n",
    "plt.scatter(x2, y2, color=\"red\", label=\"dp58\")\n",
    "plt.legend()\n",
    "\n",
    "plt.savefig('/data/des60.b/data/nglaeser/gw_workflow/plots/dp58-dp502/overlaps.png')"
   ]
  },
  {
   "cell_type": "code",
   "execution_count": 10,
   "metadata": {},
   "outputs": [
    {
     "data": {
      "image/png": "[encoded data removed]",
      "text/plain": [
       "<Figure size 432x288 with 1 Axes>"
      ]
     },
     "metadata": {},
     "output_type": "display_data"
    }
   ],
   "source": [
    "# of non-overlaps also\n",
    "x3 = only502[\"RA\"]\n",
    "y3 = only502[\"DEC\"]\n",
    "\n",
    "x4 = only58[\"RA\"]\n",
    "y4 = only58[\"DEC\"]\n",
    "\n",
    "plt.scatter(x3, y3, color=\"black\", label=\"dp502\")\n",
    "plt.scatter(x4, y4, color=\"red\", label=\"dp58\")\n",
    "\n",
    "plt.xlabel('RA')\n",
    "plt.ylabel('DEC')\n",
    "plt.title('Non-overlapping Objects')\n",
    "plt.legend()\n",
    "\n",
    "plt.savefig('/data/des60.b/data/nglaeser/gw_workflow/plots/dp58-dp502/nonoverlaps.png')"
   ]
  },
  {
   "cell_type": "code",
   "execution_count": 11,
   "metadata": {},
   "outputs": [
    {
     "data": {
      "text/plain": [
       "0.9803921568627451"
      ]
     },
     "execution_count": 11,
     "metadata": {},
     "output_type": "execute_result"
    }
   ],
   "source": [
    "fraction=float(len(df5))/len(dp502)\n",
    "fraction"
   ]
  },
  {
   "cell_type": "code",
   "execution_count": 12,
   "metadata": {},
   "outputs": [
    {
     "data": {
      "image/png": "[encoded data removed]",
      "text/plain": [
       "<Figure size 432x288 with 1 Axes>"
      ]
     },
     "metadata": {},
     "output_type": "display_data"
    }
   ],
   "source": [
    "# plot ML score vs. delta ML score\n",
    "deltaML = df5[[\"SCORE\", \"deltaML\"]]\n",
    "\n",
    "# select only rows with similar ML scores\n",
    "deltaML = deltaML.loc[deltaML[\"deltaML\"] < 0.05]\n",
    "\n",
    "x = deltaML[\"SCORE\"]\n",
    "y = deltaML[\"deltaML\"]\n",
    "\n",
    "plt.scatter(x, y)\n",
    "\n",
    "plt.axhline(y=0, color='k', lw=1)\n",
    "plt.axvline(x=0, color='k', lw=1)\n",
    "\n",
    "plt.xlabel('ML Score')\n",
    "plt.ylabel('Delta ML')\n",
    "plt.title('ML vs. delta ML')\n",
    "plt.legend()\n",
    "\n",
    "plt.savefig('/data/des60.b/data/nglaeser/gw_workflow/plots/dp58-dp502/deltaML.png')"
   ]
  },
  {
   "cell_type": "code",
   "execution_count": 13,
   "metadata": {},
   "outputs": [
    {
     "data": {
      "image/png": "[encoded data removed]",
      "text/plain": [
       "<Figure size 432x288 with 2 Axes>"
      ]
     },
     "metadata": {},
     "output_type": "display_data"
    }
   ],
   "source": [
    "# ML score bins vs. ratio overlap/old\n",
    "#***** (1)\"overlap\" as ra/dec only \n",
    "\n",
    "increment = 0.05\n",
    "bins = np.arange(0,1,increment)\n",
    "ratios = []\n",
    "overlaps = []\n",
    "olds = []\n",
    "for i in range(len(bins)-1):\n",
    "    overlap = len(df5.loc[(df5[\"SCORE\"]>=bins[i]) & (df5[\"SCORE\"]<bins[i+1])])\n",
    "    old=1\n",
    "    if overlap != 0:\n",
    "        old = len(dp502.loc[(dp502[\"SCORE\"]>=bins[i]) & (dp502[\"SCORE\"]<bins[i+1])])\n",
    "    #print \"bins: %s\\toverlap: %s\\told: %s\" % (bins[i], overlap, old)\n",
    "    \n",
    "    overlaps.append(overlap)\n",
    "    olds.append(old)\n",
    "    \n",
    "    if old == 0:\n",
    "        ratios.append(-1)\n",
    "        continue\n",
    "    ratios.append(float(overlap)/old)\n",
    "\n",
    "m1, (ax1, ax2) = plt.subplots(2, 1, sharex=True)\n",
    "ax1.bar(bins[:-1], ratios, increment, align='edge')\n",
    "ax1.axhline(y=0, color='k', lw=1)\n",
    "ax1.set_title('Score vs. Ratio')\n",
    "ax1.set_ylabel('Overlaps / old')\n",
    "\n",
    "ax2.bar(bins[:-1], overlaps, increment/2, color='blue', align='edge', label='overlaps')\n",
    "ax2.bar(bins[:-1]+increment/2, olds, increment/2, color='orange', align='edge', label='old')\n",
    "ax2.set_title('Score vs. Object Count')\n",
    "ax2.set_xlabel('ML Score')\n",
    "ax2.set_ylabel('Number of objects')\n",
    "\n",
    "handles, labels = ax2.get_legend_handles_labels()\n",
    "ax2.legend(handles, labels)\n",
    "m1.suptitle(\"Method 1\", fontsize=14)\n",
    "\n",
    "plt.savefig('/data/des60.b/data/nglaeser/gw_workflow/plots/dp58-dp502/ratios1.png')"
   ]
  },
  {
   "cell_type": "code",
   "execution_count": 30,
   "metadata": {},
   "outputs": [
    {
     "name": "stdout",
     "output_type": "stream",
     "text": [
      "0.986666666667\n"
     ]
    },
    {
     "data": {
      "image/png": "[encoded data removed]",
      "text/plain": [
       "<Figure size 432x288 with 2 Axes>"
      ]
     },
     "metadata": {},
     "output_type": "display_data"
    }
   ],
   "source": [
    "# ML score bins vs. ratio overlap/old\n",
    "#***** (2) ra/dec and deltaML < .05 ***\n",
    "\n",
    "# apply deltaML cut\n",
    "df6 = df5.loc[df5[\"deltaML\"]<0.05]\n",
    "print float(len(df6))/len(df5)\n",
    "\n",
    "increment = 0.05\n",
    "bins = np.arange(0,1,increment)\n",
    "ratios = []\n",
    "overlaps = []\n",
    "olds = []\n",
    "for i in range(len(bins)-1):\n",
    "    overlap = len(df6.loc[(df5[\"SCORE\"]>=bins[i]) & (df6[\"SCORE\"]<bins[i+1])])\n",
    "    old=1\n",
    "    if overlap != 0:\n",
    "        old = len(dp502.loc[(dp502[\"SCORE\"]>=bins[i]) & (dp502[\"SCORE\"]<bins[i+1])])\n",
    "    #print \"bins: %s\\toverlap: %s\\told: %s\" % (bins[i], overlap, old)\n",
    "    \n",
    "    overlaps.append(overlap)\n",
    "    olds.append(old)\n",
    "    \n",
    "    if old == 0:\n",
    "        ratios.append(-1)\n",
    "        continue\n",
    "    ratios.append(float(overlap)/old)\n",
    "\n",
    "m2, (ax1, ax2) = plt.subplots(2, 1, sharex=True)\n",
    "ax1.bar(bins[:-1], ratios, increment, align='edge')\n",
    "ax1.axhline(y=0, color='k', lw=1)\n",
    "ax1.set_title('Score vs. Ratio')\n",
    "ax1.set_ylabel('Overlaps / old')\n",
    "\n",
    "ax2.bar(bins[:-1], overlaps, increment/2, color='blue', align='edge', label='overlaps')\n",
    "ax2.bar(bins[:-1]+increment/2, olds, increment/2, color='orange', align='edge', label='old')\n",
    "ax2.set_title('Score vs. Object Count')\n",
    "ax2.set_xlabel('ML Score')\n",
    "ax2.set_ylabel('Number of objects')\n",
    "\n",
    "handles, labels = ax2.get_legend_handles_labels()\n",
    "ax2.legend(handles, labels)\n",
    "m2.suptitle(\"Method 2\", fontsize=14)\n",
    "\n",
    "plt.savefig('/data/des60.b/data/nglaeser/gw_workflow/plots/dp58-dp502/ratios2.png')"
   ]
  },
  {
   "cell_type": "code",
   "execution_count": 31,
   "metadata": {},
   "outputs": [
    {
     "name": "stdout",
     "output_type": "stream",
     "text": [
      "1.0\n"
     ]
    },
    {
     "data": {
      "image/png": "[encoded data removed]",
      "text/plain": [
       "<Figure size 432x288 with 2 Axes>"
      ]
     },
     "metadata": {},
     "output_type": "display_data"
    }
   ],
   "source": [
    "# ML score bins vs. ratio overlap/old\n",
    "#**** (3) ra/dec and deltaFlux < 1sigma ***\n",
    "\n",
    "# apply deltaFlux cut\n",
    "df7 = df5.loc[(df5[\"DELTA_FLUX\"]/df5[\"FLUX_ERR\"])<1]\n",
    "print float(len(df7))/len(df5)\n",
    "\n",
    "increment = 0.05\n",
    "bins = np.arange(0,1,increment)\n",
    "ratios = []\n",
    "overlaps = []\n",
    "olds = []\n",
    "for i in range(len(bins)-1):\n",
    "    overlap = len(df7.loc[(df5[\"SCORE\"]>=bins[i]) & (df7[\"SCORE\"]<bins[i+1])])\n",
    "    old=1\n",
    "    if overlap != 0:\n",
    "        old = len(dp502.loc[(dp502[\"SCORE\"]>=bins[i]) & (dp502[\"SCORE\"]<bins[i+1])])\n",
    "    #print \"bins: %s\\toverlap: %s\\told: %s\" % (bins[i], overlap, old)\n",
    "    \n",
    "    overlaps.append(overlap)\n",
    "    olds.append(old)\n",
    "    \n",
    "    if old == 0:\n",
    "        ratios.append(-1)\n",
    "        continue\n",
    "    ratios.append(float(overlap)/old)\n",
    "\n",
    "m3, (ax1, ax2) = plt.subplots(2, 1, sharex=True)\n",
    "ax1.bar(bins[:-1], ratios, increment, align='edge')\n",
    "ax1.axhline(y=0, color='k', lw=1)\n",
    "ax1.set_title('Score vs. Ratio')\n",
    "ax1.set_ylabel('Overlaps / old')\n",
    "\n",
    "ax2.bar(bins[:-1], overlaps, increment/2, color='blue', align='edge', label='overlaps')\n",
    "ax2.bar(bins[:-1]+increment/2, olds, increment/2, color='orange', align='edge', label='old')\n",
    "ax2.set_title('Score vs. Object Count')\n",
    "ax2.set_xlabel('ML Score')\n",
    "ax2.set_ylabel('Number of objects')\n",
    "\n",
    "handles, labels = ax2.get_legend_handles_labels()\n",
    "ax2.legend(handles, labels)\n",
    "m3.suptitle(\"Method 3\", fontsize=14)\n",
    "\n",
    "plt.savefig('/data/des60.b/data/nglaeser/gw_workflow/plots/dp58-dp502/ratios3.png')\n",
    "\n",
    "# delta flux: flux_old and flux_new\n",
    "# if uncorrelated , new error = sqrt(sum of squares)\n",
    "# if correlated fully, new error = error_old+error_new <<<< do this one\n",
    "# if in between, covariance matrix (don't do this now)"
   ]
  },
  {
   "cell_type": "code",
   "execution_count": 32,
   "metadata": {},
   "outputs": [
    {
     "data": {
      "image/png": "[encoded data removed]",
      "text/plain": [
       "<Figure size 432x288 with 1 Axes>"
      ]
     },
     "metadata": {},
     "output_type": "display_data"
    }
   ],
   "source": [
    "# plot distrib of delta ML score (should be gaussian centered at 0, small width) (1d)\n",
    "\n",
    "increment=0.02\n",
    "bins = np.arange(-0.5,0.5,increment)\n",
    "data = df5[\"deltaML\"]\n",
    "n, bins, patches = plt.hist(data, bins, density=0, alpha=0.5)\n",
    "plt.title('Distribution of deltaML')\n",
    "plt.xlabel('deltaML')\n",
    "plt.ylabel('Count')\n",
    "\n",
    "#from scipy.stats import norm\n",
    "#mu, std = norm.fit(data)\n",
    "#x = np.linspace(min(data), max(data))\n",
    "#p = norm.pdf(x, mu, std)\n",
    "#plt.plot(x, p, 'k', linewidth=2)\n",
    "\n",
    "plt.savefig('/data/des60.b/data/nglaeser/gw_workflow/plots/dp58-dp502/deltaMLdistrib.png')"
   ]
  },
  {
   "cell_type": "code",
   "execution_count": 33,
   "metadata": {},
   "outputs": [
    {
     "name": "stdout",
     "output_type": "stream",
     "text": [
      "    SCORE          RA        DEC\n",
      "37  0.960  197.451498 -23.384707\n",
      "39  0.573  197.448848 -23.386741\n",
      "88  0.080  197.598120 -23.478217\n",
      "\n",
      "     SCORE          RA        DEC\n",
      "130   0.09  197.596052 -23.461437\n"
     ]
    }
   ],
   "source": [
    "# ML scores of non-overlap objects\n",
    "print only502[[\"SCORE\", \"RA\", \"DEC\"]]\n",
    "print\n",
    "print only58[[\"SCORE\", \"RA\", \"DEC\"]]"
   ]
  },
  {
   "cell_type": "code",
   "execution_count": 34,
   "metadata": {},
   "outputs": [
    {
     "data": {
      "image/png": "[encoded data removed]",
      "text/plain": [
       "<Figure size 432x288 with 2 Axes>"
      ]
     },
     "metadata": {},
     "output_type": "display_data"
    }
   ],
   "source": [
    "# non-overlap ML distribution\n",
    "increment=0.02\n",
    "bins = np.arange(0,1,increment)\n",
    "\n",
    "f, (ax1, ax2) = plt.subplots(2, 1, sharex=True)\n",
    "plt.suptitle('Distribution of ML Score', fontsize=14)\n",
    "plt.xlabel('ML Score')\n",
    "\n",
    "ax1.hist(only502[\"SCORE\"], bins, facecolor='blue', density=0, alpha=0.5, label='dp502')\n",
    "ax1.set_ylabel('Count')\n",
    "ax2.hist(only58[\"SCORE\"], bins, facecolor='red', density=0, alpha=0.5, label='dp58')\n",
    "ax2.set_ylabel('Count')\n",
    "\n",
    "f.legend()\n",
    "\n",
    "plt.savefig('/data/des60.b/data/nglaeser/gw_workflow/plots/dp58-dp502/unmatchedMLdistrib.png')"
   ]
  },
  {
   "cell_type": "markdown",
   "metadata": {},
   "source": [
    "# Objects\n",
    "### Overlaps\n",
    "\n",
    "Notice that, for the most part, the RA/DEC is very similar (tolerance 1\") so there is only one color showing:\n",
    "![Overlap objects](files/dp58-dp502/overlaps.png \"Overlaps\")\n",
    "Fraction = 0.9803921568627451\n",
    "\n",
    "### Non-overlaps\n",
    "![Non-overlap objects](files/dp58-dp502/nonoverlaps.png \"Non-overlaps\")\n",
    "\n",
    "# ML Scores\n",
    "### ML Score vs. $\\Delta{ML}$\n",
    "Where $\\Delta{ML} = ML_{new} - ML_{old}$\n",
    "![ML vs. deltaML](files/dp58-dp502/deltaML.png \"ML vs. deltaML\")\n",
    "\n",
    "### ML Score Bins vs. Count\n",
    "In three ways: (1) using only RA/DEC for overlap calculation, (2) using RA/DEC and $\\Delta{ML}<0.05$, and (3) using RA/DEC and $\\Delta{\\Phi}<1\\sigma$.\n",
    "\n",
    "| | \n",
    "-|-|-\n",
    "![ML vs. number and ratio of objects](files/dp58-dp502/ratios1.png \"ML vs. Count: Method 1\")| ![ML vs. number and ratio of objects](files/dp58-dp502/ratios2.png \"ML vs. Count: Method 2\") |![ML vs. number and ratio of objects](files/dp58-dp502/ratios3.png \"ML vs. Count: Method 3\") \n",
    " |Fraction = 0.986666666667 |Fraction = 1.0 \n",
    "\n",
    "### ML Score Distribution\n",
    "$\\Delta{ML}$ distribution of matches:\n",
    "![DeltaML Distribution](files/dp58-dp502/deltaMLdistrib.png \"DeltaML Distribution\")\n",
    "\n",
    "ML score distribution of non-matches:\n",
    "![Unmatched ML Distribution](files/dp58-dp502/unmatchedMLdistrib.png \"ML Distribution of Unmatched Objects\")\n",
    "\n",
    "# Diffimg Comparison\n",
    "Left: dp58, right: dp502\n",
    "![diffimg side-by-side](files/dp58-dp502/dp58-dp502.png \"Diffimg side-by-side\")\n",
    "\n",
    "Both seasons used the same templates (**only** the August templates). Notice that dp58 eliminated some of the junk objects and thus had fewer candidates while still identifying the real counterpart!"
   ]
  },
  {
   "cell_type": "code",
   "execution_count": null,
   "metadata": {},
   "outputs": [],
   "source": []
  }
 ],
 "metadata": {
  "kernelspec": {
   "display_name": "Python 2",
   "language": "python",
   "name": "python2"
  },
  "language_info": {
   "codemirror_mode": {
    "name": "ipython",
    "version": 2
   },
   "file_extension": ".py",
   "mimetype": "text/x-python",
   "name": "python",
   "nbconvert_exporter": "python",
   "pygments_lexer": "ipython2",
   "version": "2.7.15"
  }
 },
 "nbformat": 4,
 "nbformat_minor": 2
}
