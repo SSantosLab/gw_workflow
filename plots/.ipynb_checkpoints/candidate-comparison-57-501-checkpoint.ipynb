{
 "cells": [
  {
   "cell_type": "code",
   "execution_count": 22,
   "metadata": {},
   "outputs": [],
   "source": [
    "import esutil as eu\n",
    "import numpy as np\n",
    "import matplotlib.pyplot as plt\n",
    "import pandas as pd\n",
    "\n",
    "from astropy.coordinates import SkyCoord\n",
    "from astropy import units as u"
   ]
  },
  {
   "cell_type": "code",
   "execution_count": 23,
   "metadata": {},
   "outputs": [],
   "source": [
    "# module to match objects\n",
    "h=eu.htm.HTM(10)"
   ]
  },
  {
   "cell_type": "code",
   "execution_count": 24,
   "metadata": {},
   "outputs": [],
   "source": [
    "# source file paths\n",
    "dp501data = \"/pnfs/des/persistent/gw/exp/20170817/668439/dp501/i_36/WS0501_668439_GW1971-233_combined_i_36+fakeSN_autoScan.out\"\n",
    "dp501radec = \"/pnfs/des/persistent/gw/exp/20170817/668439/dp501/i_36/WS0501_668439_GW1971-233_combined_i_36+fakeSN_filterObj.out\"\n",
    "\n",
    "dp57data = \"/data/des60.b/data/nglaeser/gw_workflow/diff5/WS0057_668439_WS1971-233_combined_i_36+fakeSN_autoScan.out\"\n",
    "dp57radec = \"/data/des60.b/data/nglaeser/gw_workflow/diff5/WS0057_668439_WS1971-233_combined_i_36+fakeSN_filterObj.out\""
   ]
  },
  {
   "cell_type": "code",
   "execution_count": 25,
   "metadata": {},
   "outputs": [
    {
     "data": {
      "text/html": [
       "<div>\n",
       "<style scoped>\n",
       "    .dataframe tbody tr th:only-of-type {\n",
       "        vertical-align: middle;\n",
       "    }\n",
       "\n",
       "    .dataframe tbody tr th {\n",
       "        vertical-align: top;\n",
       "    }\n",
       "\n",
       "    .dataframe thead th {\n",
       "        text-align: right;\n",
       "    }\n",
       "</style>\n",
       "<table border=\"1\" class=\"dataframe\">\n",
       "  <thead>\n",
       "    <tr style=\"text-align: right;\">\n",
       "      <th></th>\n",
       "      <th>SNOBJID</th>\n",
       "      <th>SCORE</th>\n",
       "      <th>FLUX</th>\n",
       "      <th>FLUX_ERR</th>\n",
       "      <th>RA</th>\n",
       "      <th>DEC</th>\n",
       "    </tr>\n",
       "  </thead>\n",
       "  <tbody>\n",
       "    <tr>\n",
       "      <th>80</th>\n",
       "      <td>10463038.0</td>\n",
       "      <td>0.93</td>\n",
       "      <td>365964.25</td>\n",
       "      <td>1855.053</td>\n",
       "      <td>197.450373</td>\n",
       "      <td>-23.381516</td>\n",
       "    </tr>\n",
       "  </tbody>\n",
       "</table>\n",
       "</div>"
      ],
      "text/plain": [
       "       SNOBJID  SCORE       FLUX  FLUX_ERR          RA        DEC\n",
       "80  10463038.0   0.93  365964.25  1855.053  197.450373 -23.381516"
      ]
     },
     "execution_count": 25,
     "metadata": {},
     "output_type": "execute_result"
    }
   ],
   "source": [
    "#***** original dp501 data from /pnfs/ *****#\n",
    "data501 = np.genfromtxt(dp501data, usecols=(1,2,3), skip_header=3)\n",
    "df1= pd.DataFrame(data501, columns=[\"SNOBJID\", \"SCORE\", \"FLUX\"])\n",
    "\n",
    "# get the RA, DEC corresponding to the SNOBJIDs\n",
    "radec501 = np.genfromtxt(dp501radec, usecols=(1,17,8,9), skip_header=18, skip_footer=6)\n",
    "df2= pd.DataFrame(radec501, columns=[\"SNOBJID\", \"FLUX_ERR\", \"RA\",\"DEC\"])\n",
    "\n",
    "# merge on the ID\n",
    "dp501 = pd.merge(df1, df2, on=\"SNOBJID\")\n",
    "\n",
    "ra501=dp501[\"RA\"].values\n",
    "dec501=dp501[\"DEC\"].values\n",
    "\n",
    "# get significant candidates\n",
    "cand=dp501.loc[dp501[\"SCORE\"] > 0.9]\n",
    "cand"
   ]
  },
  {
   "cell_type": "code",
   "execution_count": 26,
   "metadata": {},
   "outputs": [
    {
     "name": "stdout",
     "output_type": "stream",
     "text": [
      "DEC: -23:22:80    53.45724\n",
      "Name: DEC, dtype: float64\n",
      "RA: 197:27:80    1.34136\n",
      "Name: RA, dtype: float64\n"
     ]
    }
   ],
   "source": [
    "# convert these candidates to hh:mm:ss\n",
    "dec=cand[\"DEC\"]\n",
    "decminutes=abs((dec-int(dec))*60)\n",
    "decseconds=abs((decminutes-int(decminutes))*60)\n",
    "\n",
    "ra=cand[\"RA\"]\n",
    "raminutes=abs((ra-int(ra))*60)\n",
    "raseconds=abs((raminutes-int(raminutes))*60)\n",
    "\n",
    "print \"DEC: %s:%s:%s\" % (int(dec), int(decminutes), decseconds)\n",
    "print \"RA: %s:%s:%s\" % (int(ra), int(raminutes), raseconds)"
   ]
  },
  {
   "cell_type": "code",
   "execution_count": 27,
   "metadata": {},
   "outputs": [
    {
     "data": {
      "text/html": [
       "<div>\n",
       "<style scoped>\n",
       "    .dataframe tbody tr th:only-of-type {\n",
       "        vertical-align: middle;\n",
       "    }\n",
       "\n",
       "    .dataframe tbody tr th {\n",
       "        vertical-align: top;\n",
       "    }\n",
       "\n",
       "    .dataframe thead th {\n",
       "        text-align: right;\n",
       "    }\n",
       "</style>\n",
       "<table border=\"1\" class=\"dataframe\">\n",
       "  <thead>\n",
       "    <tr style=\"text-align: right;\">\n",
       "      <th></th>\n",
       "      <th>SNOBJID</th>\n",
       "      <th>SCORE</th>\n",
       "      <th>FLUX</th>\n",
       "      <th>FLUX_ERR</th>\n",
       "      <th>RA</th>\n",
       "      <th>DEC</th>\n",
       "    </tr>\n",
       "  </thead>\n",
       "  <tbody>\n",
       "    <tr>\n",
       "      <th>39</th>\n",
       "      <td>15935015.0</td>\n",
       "      <td>0.93</td>\n",
       "      <td>365781.5625</td>\n",
       "      <td>1875.716</td>\n",
       "      <td>197.450377</td>\n",
       "      <td>-23.381519</td>\n",
       "    </tr>\n",
       "  </tbody>\n",
       "</table>\n",
       "</div>"
      ],
      "text/plain": [
       "       SNOBJID  SCORE         FLUX  FLUX_ERR          RA        DEC\n",
       "39  15935015.0   0.93  365781.5625  1875.716  197.450377 -23.381519"
      ]
     },
     "execution_count": 27,
     "metadata": {},
     "output_type": "execute_result"
    }
   ],
   "source": [
    "# new data dp57 from diff5\n",
    "data57 = np.genfromtxt(dp57data, usecols=(1,2,3), skip_header=3)\n",
    "df3= pd.DataFrame(data57, columns=[\"SNOBJID\", \"SCORE\", \"FLUX\"])\n",
    "\n",
    "# get the RA, DEC corresponding to the SNOBJIDs\n",
    "radec57 = np.genfromtxt(dp57radec, usecols=(1,17,8,9), skip_header=18, skip_footer=6)\n",
    "df4= pd.DataFrame(radec57, columns=[\"SNOBJID\", \"FLUX_ERR\", \"RA\",\"DEC\"])\n",
    "\n",
    "# merge on the ID\n",
    "dp57 = pd.merge(df3, df4, on=\"SNOBJID\")\n",
    "\n",
    "ra57=dp57[\"RA\"].values\n",
    "dec57=dp57[\"DEC\"].values\n",
    "\n",
    "#dp57\n",
    "dp57.loc[(dp57[\"SCORE\"] > 0.9)]"
   ]
  },
  {
   "cell_type": "code",
   "execution_count": 28,
   "metadata": {},
   "outputs": [],
   "source": [
    "# match up coordinates\n",
    "matches501, matches57, dist = h.match(ra501, dec501, ra57, dec57, 3./3600, maxmatch=1)\n",
    "# match within 1 arcsec, best match only\n",
    "\n",
    "#print matches501\n",
    "#print matches57"
   ]
  },
  {
   "cell_type": "code",
   "execution_count": 29,
   "metadata": {},
   "outputs": [
    {
     "data": {
      "text/html": [
       "<div>\n",
       "<style scoped>\n",
       "    .dataframe tbody tr th:only-of-type {\n",
       "        vertical-align: middle;\n",
       "    }\n",
       "\n",
       "    .dataframe tbody tr th {\n",
       "        vertical-align: top;\n",
       "    }\n",
       "\n",
       "    .dataframe thead th {\n",
       "        text-align: right;\n",
       "    }\n",
       "</style>\n",
       "<table border=\"1\" class=\"dataframe\">\n",
       "  <thead>\n",
       "    <tr style=\"text-align: right;\">\n",
       "      <th></th>\n",
       "      <th>SNOBJID501</th>\n",
       "      <th>SCORE501</th>\n",
       "      <th>FLUX501</th>\n",
       "      <th>FLUX_ERR501</th>\n",
       "      <th>RA501</th>\n",
       "      <th>DEC501</th>\n",
       "      <th>SNOBJID57</th>\n",
       "      <th>SCORE57</th>\n",
       "      <th>FLUX57</th>\n",
       "      <th>FLUX_ERR57</th>\n",
       "      <th>RA57</th>\n",
       "      <th>DEC57</th>\n",
       "      <th>deltaML</th>\n",
       "      <th>SCORE</th>\n",
       "      <th>DELTA_FLUX</th>\n",
       "      <th>FLUX_ERR</th>\n",
       "    </tr>\n",
       "  </thead>\n",
       "  <tbody>\n",
       "  </tbody>\n",
       "</table>\n",
       "</div>"
      ],
      "text/plain": [
       "Empty DataFrame\n",
       "Columns: [SNOBJID501, SCORE501, FLUX501, FLUX_ERR501, RA501, DEC501, SNOBJID57, SCORE57, FLUX57, FLUX_ERR57, RA57, DEC57, deltaML, SCORE, DELTA_FLUX, FLUX_ERR]\n",
       "Index: []"
      ]
     },
     "execution_count": 29,
     "metadata": {},
     "output_type": "execute_result"
    }
   ],
   "source": [
    "overlaps=np.column_stack([np.array(dp501)[matches501],np.array(dp57)[matches57]])\n",
    "df5 = pd.DataFrame(overlaps, columns=[\"SNOBJID501\", \"SCORE501\", \"FLUX501\", \"FLUX_ERR501\", \"RA501\", \"DEC501\", \"SNOBJID57\", \"SCORE57\", \"FLUX57\", \"FLUX_ERR57\", \"RA57\", \"DEC57\"])\n",
    "\n",
    "# add deltaML row\n",
    "df5 = df5.assign(deltaML=pd.Series(df5[\"SCORE57\"]-df5[\"SCORE501\"]))\n",
    "# and an average score row\n",
    "df5 = df5.assign(SCORE=pd.Series(0.5*(df5[\"SCORE501\"]+df5[\"SCORE57\"])))\n",
    "# and a deltaflux row\n",
    "df5 = df5.assign(DELTA_FLUX=pd.Series(df5[\"FLUX57\"]-df5[\"FLUX501\"]))\n",
    "# AND a combined flux err row\n",
    "df5 = df5.assign(FLUX_ERR=pd.Series(df5[\"FLUX_ERR501\"]+df5[\"FLUX_ERR57\"]))\n",
    "\n",
    "only501=dp501.loc[~dp501[\"SNOBJID\"].isin(df5[\"SNOBJID501\"])]\n",
    "only57=dp57.loc[~dp57[\"SNOBJID\"].isin(df5[\"SNOBJID57\"])]\n",
    "\n",
    "df5.loc[(df5[\"SCORE501\"] > 0.959) & (df5[\"SCORE501\"] < 0.961)]"
   ]
  },
  {
   "cell_type": "code",
   "execution_count": 30,
   "metadata": {},
   "outputs": [
    {
     "data": {
      "image/png": "[encoded data removed]",
      "text/plain": [
       "<Figure size 432x288 with 1 Axes>"
      ]
     },
     "metadata": {},
     "output_type": "display_data"
    }
   ],
   "source": [
    "# plot RA,DEC of overlaps\n",
    "x1 = df5[\"RA501\"]\n",
    "y1 = df5[\"DEC501\"]\n",
    "\n",
    "x2 = df5[\"RA57\"]\n",
    "y2 = df5[\"DEC57\"]\n",
    "\n",
    "overlaps = plt.subplot()\n",
    "plt.xlabel('RA')\n",
    "plt.ylabel('DEC')\n",
    "plt.title('Overlapping Objects')\n",
    "\n",
    "plt.scatter(x1, y1, color=\"black\", label=\"dp501\")\n",
    "plt.scatter(x2, y2, color=\"red\", label=\"dp57\")\n",
    "plt.legend()\n",
    "\n",
    "plt.savefig('/data/des60.b/data/nglaeser/gw_workflow/plots/dp57-dp501/overlaps.png')"
   ]
  },
  {
   "cell_type": "code",
   "execution_count": 31,
   "metadata": {},
   "outputs": [
    {
     "data": {
      "image/png": "[encoded data removed]",
      "text/plain": [
       "<Figure size 432x288 with 1 Axes>"
      ]
     },
     "metadata": {},
     "output_type": "display_data"
    }
   ],
   "source": [
    "# of non-overlaps also\n",
    "x3 = only501[\"RA\"]\n",
    "y3 = only501[\"DEC\"]\n",
    "\n",
    "x4 = only57[\"RA\"]\n",
    "y4 = only57[\"DEC\"]\n",
    "\n",
    "plt.scatter(x3, y3, color=\"black\", label=\"dp501\")\n",
    "plt.scatter(x4, y4, color=\"red\", label=\"dp57\")\n",
    "\n",
    "plt.xlabel('RA')\n",
    "plt.ylabel('DEC')\n",
    "plt.title('Non-overlapping Objects')\n",
    "plt.legend()\n",
    "\n",
    "plt.savefig('/data/des60.b/data/nglaeser/gw_workflow/plots/dp57-dp501/nonoverlaps.png')"
   ]
  },
  {
   "cell_type": "code",
   "execution_count": 42,
   "metadata": {},
   "outputs": [
    {
     "data": {
      "text/plain": [
       "0.9299363057324841"
      ]
     },
     "execution_count": 42,
     "metadata": {},
     "output_type": "execute_result"
    }
   ],
   "source": [
    "fraction=float(len(df5))/len(dp501)\n",
    "fraction"
   ]
  },
  {
   "cell_type": "code",
   "execution_count": 43,
   "metadata": {},
   "outputs": [
    {
     "data": {
      "image/png": "[encoded data removed]",
      "text/plain": [
       "<Figure size 432x288 with 1 Axes>"
      ]
     },
     "metadata": {},
     "output_type": "display_data"
    }
   ],
   "source": [
    "# plot ML score vs. delta ML score\n",
    "deltaML = df5[[\"SCORE\", \"deltaML\"]]\n",
    "\n",
    "# select only rows with similar ML scores\n",
    "deltaML = deltaML.loc[deltaML[\"deltaML\"] < 0.05]\n",
    "\n",
    "x = deltaML[\"SCORE\"]\n",
    "y = deltaML[\"deltaML\"]\n",
    "\n",
    "plt.scatter(x, y)\n",
    "\n",
    "plt.axhline(y=0, color='k', lw=1)\n",
    "plt.axvline(x=0, color='k', lw=1)\n",
    "\n",
    "plt.xlabel('ML Score')\n",
    "plt.ylabel('Delta ML')\n",
    "plt.title('ML vs. delta ML')\n",
    "plt.legend()\n",
    "\n",
    "plt.savefig('/data/des60.b/data/nglaeser/gw_workflow/plots/dp57-dp501/deltaML.png')"
   ]
  },
  {
   "cell_type": "code",
   "execution_count": 44,
   "metadata": {},
   "outputs": [
    {
     "data": {
      "image/png": "[encoded data removed]",
      "text/plain": [
       "<Figure size 432x288 with 2 Axes>"
      ]
     },
     "metadata": {},
     "output_type": "display_data"
    }
   ],
   "source": [
    "# ML score bins vs. ratio overlap/old\n",
    "#***** (1)\"overlap\" as ra/dec only \n",
    "\n",
    "increment = 0.05\n",
    "bins = np.arange(0,1,increment)\n",
    "ratios = []\n",
    "overlaps = []\n",
    "olds = []\n",
    "for i in range(len(bins)-1):\n",
    "    overlap = len(df5.loc[(df5[\"SCORE\"]>=bins[i]) & (df5[\"SCORE\"]<bins[i+1])])\n",
    "    old=1\n",
    "    if overlap != 0:\n",
    "        old = len(dp501.loc[(dp501[\"SCORE\"]>=bins[i]) & (dp501[\"SCORE\"]<bins[i+1])])\n",
    "    #print \"bins: %s\\toverlap: %s\\told: %s\" % (bins[i], overlap, old)\n",
    "    \n",
    "    overlaps.append(overlap)\n",
    "    olds.append(old)\n",
    "    \n",
    "    if old == 0:\n",
    "        ratios.append(-1)\n",
    "        continue\n",
    "    ratios.append(float(overlap)/old)\n",
    "\n",
    "m1, (ax1, ax2) = plt.subplots(2, 1, sharex=True)\n",
    "ax1.bar(bins[:-1], ratios, increment, align='edge')\n",
    "ax1.axhline(y=0, color='k', lw=1)\n",
    "ax1.set_title('Score vs. Ratio')\n",
    "ax1.set_ylabel('Overlaps / old')\n",
    "\n",
    "ax2.bar(bins[:-1], overlaps, increment/2, color='blue', align='edge', label='overlaps')\n",
    "ax2.bar(bins[:-1]+increment/2, olds, increment/2, color='orange', align='edge', label='old')\n",
    "ax2.set_title('Score vs. Object Count')\n",
    "ax2.set_xlabel('ML Score')\n",
    "ax2.set_ylabel('Number of objects')\n",
    "\n",
    "handles, labels = ax2.get_legend_handles_labels()\n",
    "ax2.legend(handles, labels)\n",
    "m1.suptitle(\"Method 1\", fontsize=14)\n",
    "\n",
    "plt.savefig('/data/des60.b/data/nglaeser/gw_workflow/plots/dp57-dp501/ratios1.png')"
   ]
  },
  {
   "cell_type": "code",
   "execution_count": 45,
   "metadata": {},
   "outputs": [
    {
     "name": "stdout",
     "output_type": "stream",
     "text": [
      "0.917808219178\n"
     ]
    },
    {
     "data": {
      "image/png": "[encoded data removed]",
      "text/plain": [
       "<Figure size 432x288 with 2 Axes>"
      ]
     },
     "metadata": {},
     "output_type": "display_data"
    }
   ],
   "source": [
    "# ML score bins vs. ratio overlap/old\n",
    "#***** (2) ra/dec and deltaML < .05 ***\n",
    "\n",
    "# apply deltaML cut\n",
    "df6 = df5.loc[df5[\"deltaML\"]<0.05]\n",
    "print float(len(df6))/len(df5)\n",
    "\n",
    "increment = 0.05\n",
    "bins = np.arange(0,1,increment)\n",
    "ratios = []\n",
    "overlaps = []\n",
    "olds = []\n",
    "for i in range(len(bins)-1):\n",
    "    overlap = len(df6.loc[(df5[\"SCORE\"]>=bins[i]) & (df6[\"SCORE\"]<bins[i+1])])\n",
    "    old=1\n",
    "    if overlap != 0:\n",
    "        old = len(dp501.loc[(dp501[\"SCORE\"]>=bins[i]) & (dp501[\"SCORE\"]<bins[i+1])])\n",
    "    #print \"bins: %s\\toverlap: %s\\told: %s\" % (bins[i], overlap, old)\n",
    "    \n",
    "    overlaps.append(overlap)\n",
    "    olds.append(old)\n",
    "    \n",
    "    if old == 0:\n",
    "        ratios.append(-1)\n",
    "        continue\n",
    "    ratios.append(float(overlap)/old)\n",
    "\n",
    "m2, (ax1, ax2) = plt.subplots(2, 1, sharex=True)\n",
    "ax1.bar(bins[:-1], ratios, increment, align='edge')\n",
    "ax1.axhline(y=0, color='k', lw=1)\n",
    "ax1.set_title('Score vs. Ratio')\n",
    "ax1.set_ylabel('Overlaps / old')\n",
    "\n",
    "ax2.bar(bins[:-1], overlaps, increment/2, color='blue', align='edge', label='overlaps')\n",
    "ax2.bar(bins[:-1]+increment/2, olds, increment/2, color='orange', align='edge', label='old')\n",
    "ax2.set_title('Score vs. Object Count')\n",
    "ax2.set_xlabel('ML Score')\n",
    "ax2.set_ylabel('Number of objects')\n",
    "\n",
    "handles, labels = ax2.get_legend_handles_labels()\n",
    "ax2.legend(handles, labels)\n",
    "m2.suptitle(\"Method 2\", fontsize=14)\n",
    "\n",
    "plt.savefig('/data/des60.b/data/nglaeser/gw_workflow/plots/dp57-dp501/ratios2.png')"
   ]
  },
  {
   "cell_type": "code",
   "execution_count": 46,
   "metadata": {},
   "outputs": [
    {
     "name": "stdout",
     "output_type": "stream",
     "text": [
      "0.986301369863\n"
     ]
    },
    {
     "data": {
      "image/png": "[encoded data removed]",
      "text/plain": [
       "<Figure size 432x288 with 2 Axes>"
      ]
     },
     "metadata": {},
     "output_type": "display_data"
    }
   ],
   "source": [
    "# ML score bins vs. ratio overlap/old\n",
    "#**** (3) ra/dec and deltaFlux < 1sigma ***\n",
    "\n",
    "# apply deltaFlux cut\n",
    "df7 = df5.loc[(df5[\"DELTA_FLUX\"]/df5[\"FLUX_ERR\"])<1]\n",
    "print float(len(df7))/len(df5)\n",
    "\n",
    "increment = 0.05\n",
    "bins = np.arange(0,1,increment)\n",
    "ratios = []\n",
    "overlaps = []\n",
    "olds = []\n",
    "for i in range(len(bins)-1):\n",
    "    overlap = len(df7.loc[(df5[\"SCORE\"]>=bins[i]) & (df7[\"SCORE\"]<bins[i+1])])\n",
    "    old=1\n",
    "    if overlap != 0:\n",
    "        old = len(dp501.loc[(dp501[\"SCORE\"]>=bins[i]) & (dp501[\"SCORE\"]<bins[i+1])])\n",
    "    #print \"bins: %s\\toverlap: %s\\told: %s\" % (bins[i], overlap, old)\n",
    "    \n",
    "    overlaps.append(overlap)\n",
    "    olds.append(old)\n",
    "    \n",
    "    if old == 0:\n",
    "        ratios.append(-1)\n",
    "        continue\n",
    "    ratios.append(float(overlap)/old)\n",
    "\n",
    "m3, (ax1, ax2) = plt.subplots(2, 1, sharex=True)\n",
    "ax1.bar(bins[:-1], ratios, increment, align='edge')\n",
    "ax1.axhline(y=0, color='k', lw=1)\n",
    "ax1.set_title('Score vs. Ratio')\n",
    "ax1.set_ylabel('Overlaps / old')\n",
    "\n",
    "ax2.bar(bins[:-1], overlaps, increment/2, color='blue', align='edge', label='overlaps')\n",
    "ax2.bar(bins[:-1]+increment/2, olds, increment/2, color='orange', align='edge', label='old')\n",
    "ax2.set_title('Score vs. Object Count')\n",
    "ax2.set_xlabel('ML Score')\n",
    "ax2.set_ylabel('Number of objects')\n",
    "\n",
    "handles, labels = ax2.get_legend_handles_labels()\n",
    "ax2.legend(handles, labels)\n",
    "m3.suptitle(\"Method 3\", fontsize=14)\n",
    "\n",
    "plt.savefig('/data/des60.b/data/nglaeser/gw_workflow/plots/dp57-dp501/ratios3.png')\n",
    "\n",
    "# delta flux: flux_old and flux_new\n",
    "# if uncorrelated , new error = sqrt(sum of squares)\n",
    "# if correlated fully, new error = error_old+error_new <<<< do this one\n",
    "# if in between, covariance matrix (don't do this now)"
   ]
  },
  {
   "cell_type": "code",
   "execution_count": 47,
   "metadata": {},
   "outputs": [
    {
     "data": {
      "image/png": "[encoded data removed]",
      "text/plain": [
       "<Figure size 432x288 with 1 Axes>"
      ]
     },
     "metadata": {},
     "output_type": "display_data"
    }
   ],
   "source": [
    "# plot distrib of delta ML score (should be gaussian centered at 0, small width) (1d)\n",
    "\n",
    "increment=0.02\n",
    "bins = np.arange(-0.5,0.5,increment)\n",
    "data = df5[\"deltaML\"]\n",
    "n, bins, patches = plt.hist(data, bins, density=0, alpha=0.5)\n",
    "plt.title('Distribution of deltaML')\n",
    "plt.xlabel('deltaML')\n",
    "plt.ylabel('Count')\n",
    "\n",
    "#from scipy.stats import norm\n",
    "#mu, std = norm.fit(data)\n",
    "#x = np.linspace(min(data), max(data))\n",
    "#p = norm.pdf(x, mu, std)\n",
    "#plt.plot(x, p, 'k', linewidth=2)\n",
    "\n",
    "plt.savefig('/data/des60.b/data/nglaeser/gw_workflow/plots/dp57-dp501/deltaMLdistrib.png')"
   ]
  },
  {
   "cell_type": "code",
   "execution_count": 48,
   "metadata": {},
   "outputs": [
    {
     "name": "stdout",
     "output_type": "stream",
     "text": [
      "     SCORE          RA        DEC\n",
      "2    0.210  197.317650 -23.461246\n",
      "9    0.240  197.323875 -23.443671\n",
      "47   0.110  197.394682 -23.412830\n",
      "64   0.265  197.422208 -23.407399\n",
      "116  0.210  197.539242 -23.424753\n",
      "124  0.073  197.551790 -23.344544\n",
      "127  0.055  197.575364 -23.449844\n",
      "129  0.380  197.607689 -23.406477\n",
      "131  0.293  197.590422 -23.379430\n",
      "137  0.190  197.621947 -23.342801\n",
      "141  0.080  197.598119 -23.478216\n",
      "\n",
      "     SCORE          RA        DEC\n",
      "80   0.190  197.548496 -23.424353\n",
      "83   0.090  197.554034 -23.483663\n",
      "129  0.307  197.338999 -23.420291\n",
      "138  0.170  197.357300 -23.421151\n",
      "139  0.280  197.360290 -23.385991\n",
      "141  0.193  197.361045 -23.411998\n"
     ]
    }
   ],
   "source": [
    "# ML scores of non-overlap objects\n",
    "print only501[[\"SCORE\", \"RA\", \"DEC\"]]\n",
    "print\n",
    "print only57[[\"SCORE\", \"RA\", \"DEC\"]]"
   ]
  },
  {
   "cell_type": "code",
   "execution_count": 49,
   "metadata": {},
   "outputs": [
    {
     "data": {
      "image/png": "[encoded data removed]",
      "text/plain": [
       "<Figure size 432x288 with 2 Axes>"
      ]
     },
     "metadata": {},
     "output_type": "display_data"
    }
   ],
   "source": [
    "# non-overlap ML distribution\n",
    "increment=0.02\n",
    "bins = np.arange(0,1,increment)\n",
    "\n",
    "f, (ax1, ax2) = plt.subplots(2, 1, sharex=True)\n",
    "plt.suptitle('Distribution of ML Score', fontsize=14)\n",
    "plt.xlabel('ML Score')\n",
    "\n",
    "ax1.hist(only501[\"SCORE\"], bins, facecolor='blue', density=0, alpha=0.5, label='dp501')\n",
    "ax1.set_ylabel('Count')\n",
    "ax2.hist(only57[\"SCORE\"], bins, facecolor='red', density=0, alpha=0.5, label='dp57')\n",
    "ax2.set_ylabel('Count')\n",
    "\n",
    "f.legend()\n",
    "\n",
    "plt.savefig('/data/des60.b/data/nglaeser/gw_workflow/plots/dp57-dp501/unmatchedMLdistrib.png')"
   ]
  },
  {
   "cell_type": "markdown",
   "metadata": {},
   "source": [
    "# Objects\n",
    "### Overlaps\n",
    "\n",
    "Notice that, for the most part, the RA/DEC is very similar (tolerance 1\") so there is only one color showing:\n",
    "![Overlap objects](files/dp57-dp501/overlaps.png \"Overlaps\")\n",
    "Fraction = 0.9299363057324841\n",
    "\n",
    "### Non-overlaps\n",
    "![Non-overlap objects](files/dp57-dp501/nonoverlaps.png \"Non-overlaps\")\n",
    "\n",
    "# ML Scores\n",
    "### ML Score vs. $\\Delta{ML}$\n",
    "Where $\\Delta{ML} = ML_{new} - ML_{old}$\n",
    "![ML vs. deltaML](files/dp57-dp501/deltaML.png \"ML vs. deltaML\")\n",
    "\n",
    "### ML Score Bins vs. Count\n",
    "In three ways: (1) using only RA/DEC for overlap calculation, (2) using RA/DEC and $\\Delta{ML}<0.05$, and (3) using RA/DEC and $\\Delta{\\Phi}<1\\sigma$.\n",
    "\n",
    "| | \n",
    "-|-|-\n",
    "![ML vs. number and ratio of objects](files/dp57-dp501/ratios1.png \"ML vs. Count: Method 1\")| ![ML vs. number and ratio of objects](files/dp57-dp501/ratios2.png \"ML vs. Count: Method 2\") |![ML vs. number and ratio of objects](files/dp57-dp501/ratios3.png \"ML vs. Count: Method 3\") \n",
    " |Fraction = 0.917808219178 |Fraction = 0.986301369863 \n",
    "\n",
    "### ML Score Distribution\n",
    "$\\Delta{ML}$ distribution of matches:\n",
    "![DeltaML Distribution](files/dp57-dp501/deltaMLdistrib.png \"DeltaML Distribution\")\n",
    "\n",
    "ML score distribution of non-matches:\n",
    "![Unmatched ML Distribution](files/dp57-dp501/unmatchedMLdistrib.png \"ML Distribution of Unmatched Objects\")\n",
    "\n",
    "# Diffimg Comparison\n",
    "Left: dp57, right: dp501\n",
    "![diffimg side-by-side](files/dp57-dp501/dp57-dp501.png \"Diffimg side-by-side\")\n",
    "\n",
    "Both seasons used templates from August **and** September."
   ]
  },
  {
   "cell_type": "code",
   "execution_count": null,
   "metadata": {},
   "outputs": [],
   "source": []
  }
 ],
 "metadata": {
  "kernelspec": {
   "display_name": "Python 2",
   "language": "python",
   "name": "python2"
  },
  "language_info": {
   "codemirror_mode": {
    "name": "ipython",
    "version": 2
   },
   "file_extension": ".py",
   "mimetype": "text/x-python",
   "name": "python",
   "nbconvert_exporter": "python",
   "pygments_lexer": "ipython2",
   "version": "2.7.15"
  }
 },
 "nbformat": 4,
 "nbformat_minor": 2
}
