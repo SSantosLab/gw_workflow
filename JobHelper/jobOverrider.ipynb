{
 "cells": [
  {
   "cell_type": "code",
   "execution_count": 1,
   "metadata": {},
   "outputs": [],
   "source": [
    "import os\n",
    "from glob import glob\n",
    "import numpy as np\n",
    "import matplotlib.pyplot as plt\n",
    "\n",
    "event_id = os.getcwd().split('/')[-3]\n",
    "print(f'EVENT: {event_id}')\n",
    "\n",
    "base_dir = f\"/data/des70.a/data/desgw/O4/{event_id}/gw_workflow/\"\n",
    "\n",
    "with open(base_dir+'dagmaker.rc') as rcfile:\n",
    "    for line in rcfile.readlines():\n",
    "        if 'SEASON' in line:\n",
    "            season = int(line[-5:-1])\n",
    "            print(f'SEASON: {season}')\n",
    "\n",
    "plt.rcParams['mathtext.fontset'] = 'stix'\n",
    "plt.rcParams['font.family'] = 'STIXGeneral'"
   ]
  },
  {
   "cell_type": "markdown",
   "metadata": {},
   "source": [
    "<h2>Finding Exposures</h2>"
   ]
  },
  {
   "cell_type": "code",
   "execution_count": 2,
   "metadata": {},
   "outputs": [
    {
     "name": "stdout",
     "output_type": "stream",
     "text": [
      "Total Search Images: 297\n"
     ]
    }
   ],
   "source": [
    "search_expnums = []\n",
    "for filename in glob(base_dir+f'../exposures/*/{event_id}_exposures.list'):\n",
    "    search_expnums = np.append(search_expnums, np.loadtxt(filename))\n",
    "search_expnums = np.unique(search_expnums).astype(int)\n",
    "\n",
    "search_commands = []\n",
    "search_bands = []\n",
    "serial_commands = []\n",
    "search_nites = []\n",
    "for expnum in search_expnums:\n",
    "    with open(base_dir+f'desgw_pipeline_{expnum}.dag') as dagfile:\n",
    "        p_counter = 0\n",
    "        s_counter = 0\n",
    "        for i, line in enumerate(dagfile):\n",
    "            if line.strip()=='<parallel>' or line.strip()=='</parallel>':\n",
    "                p_counter += 1\n",
    "            elif line.strip()=='<serial>':\n",
    "                s_counter += 1\n",
    "            elif p_counter==3:\n",
    "                search_nites.append(line.split()[32])\n",
    "                search_bands.append(line.split()[30])\n",
    "                search_commands.append(line)\n",
    "                p_counter += 1\n",
    "            elif s_counter==1:\n",
    "                serial_commands.append(line)\n",
    "print('Total Search Images:', len(search_expnums))"
   ]
  },
  {
   "cell_type": "code",
   "execution_count": 3,
   "metadata": {},
   "outputs": [
    {
     "name": "stdout",
     "output_type": "stream",
     "text": [
      "Total Templates: 14689\n",
      "Unique Templates: 1638\n"
     ]
    }
   ],
   "source": [
    "template_expnums = []\n",
    "template_commands = []\n",
    "template_nites = []\n",
    "\n",
    "for expnum in search_expnums:\n",
    "    with open(base_dir+f'desgw_pipeline_{expnum}.dag') as dagfile:\n",
    "        for i, line in enumerate(dagfile):\n",
    "            if i<2:\n",
    "                continue\n",
    "            if line.strip()=='</parallel>':\n",
    "                break\n",
    "            template_nites.append(line.split()[37])\n",
    "            template_expnums.append(line.split()[31])\n",
    "            template_commands.append(line)\n",
    "\n",
    "print('Total Templates:', len(template_expnums))\n",
    "template_expnums, unique_idx = np.unique(template_expnums, return_index=True)\n",
    "template_commands = np.array(template_commands)[unique_idx]\n",
    "template_nites = np.array(template_nites)[unique_idx]\n",
    "print('Unique Templates:', len(template_expnums))"
   ]
  },
  {
   "cell_type": "markdown",
   "metadata": {},
   "source": [
    "<h2>Incorrectly Calibrated Exposures</h2>"
   ]
  },
  {
   "cell_type": "code",
   "execution_count": 4,
   "metadata": {},
   "outputs": [
    {
     "name": "stdout",
     "output_type": "stream",
     "text": [
      "Total Problem Templates: 15/1638 (0.9%)\n",
      "Total Problem CCDs: 15/98280 (0.0%)\n"
     ]
    }
   ],
   "source": [
    "# TEMPLATES\n",
    "last_mod_sediff_time = os.path.getmtime(base_dir+'SEdiff.sh')\n",
    "last_mod_sediff_time = 1722870670.967716 # 05.08.2024 last dagmaker change, safe for calibration\n",
    "\n",
    "n_templates = len(template_expnums)\n",
    "failexp = 0\n",
    "fail_idxs = []\n",
    "fail_ccds = []\n",
    "totalfailccd = 0\n",
    "for i in range(n_templates):\n",
    "    path = '/pnfs/des/persistent/gw/exp/{}/{}/'.format(template_nites[i], template_expnums[i])\n",
    "    failccd = 0\n",
    "    for file in glob(path+'*r4p12_ZP.csv'):\n",
    "        if os.path.getmtime(file) < last_mod_sediff_time:\n",
    "            fail_ccds.append([template_expnums[i], template_commands[i].split(' -b ')[1][0], template_nites[i], int(file.split('_')[1])])\n",
    "            failccd += 1\n",
    "    if failccd > 0:\n",
    "        fail_idxs.append(i)\n",
    "        #print('Exposure Number {}: '.format(template_expnums[i]), end='')\n",
    "        #print(failccd)\n",
    "        failexp += 1\n",
    "    totalfailccd += failccd\n",
    "print('Total Problem Templates: {}/{} ({:.1%})'.format(failexp, n_templates, failexp/n_templates))\n",
    "print('Total Problem CCDs: {}/{} ({:.1%})'.format(totalfailccd, n_templates*60, totalfailccd/(n_templates*60)))"
   ]
  },
  {
   "cell_type": "code",
   "execution_count": 5,
   "metadata": {},
   "outputs": [
    {
     "name": "stdout",
     "output_type": "stream",
     "text": [
      "Total Problem Search Images: 23/293 (7.8%)\n",
      "Total Problem CCDs: 1043/17580 (5.9%)\n"
     ]
    }
   ],
   "source": [
    "# SEARCH\n",
    "last_mod_sediff_time = os.path.getmtime(base_dir+'SEdiff.sh')\n",
    "last_mod_sediff_time = 1722870670.967716 # 05.08.2024 last dagmaker change, safe for calibration\n",
    "\n",
    "n_images = len(search_nites)\n",
    "failexp = 0\n",
    "search_fail_idxs = []\n",
    "totalfailccd = 0\n",
    "for i in range(len(search_nites)):\n",
    "    path = '/pnfs/des/persistent/gw/exp/{}/{}/'.format(search_nites[i], search_expnums[i])\n",
    "    failccd = 0\n",
    "    for file in glob(path+'*r4p12_ZP.csv'):\n",
    "        if os.path.getmtime(file) < last_mod_sediff_time:\n",
    "            failccd += 1\n",
    "    if failccd > 0:\n",
    "        search_fail_idxs.append(i)\n",
    "        #print('Exposure Number {}: '.format(template_expnums[i]), end='')\n",
    "        #print(failccd)\n",
    "        failexp += 1\n",
    "    totalfailccd += failccd\n",
    "print('Total Problem Search Images: {}/{} ({:.1%})'.format(failexp, n_images, failexp/n_images))\n",
    "print('Total Problem CCDs: {}/{} ({:.1%})'.format(totalfailccd, n_images*60, totalfailccd/(n_images*60)))"
   ]
  },
  {
   "cell_type": "code",
   "execution_count": 6,
   "metadata": {},
   "outputs": [
    {
     "name": "stdout",
     "output_type": "stream",
     "text": [
      "1297759\n",
      "1297761\n",
      "1297762\n",
      "1297763\n",
      "1297765\n",
      "1297767\n",
      "1297768\n",
      "1297770\n",
      "1297771\n",
      "1297772\n",
      "1297773\n",
      "1297774\n",
      "1297775\n",
      "1297776\n",
      "1297778\n",
      "1297785\n",
      "1297786\n",
      "1297787\n",
      "1297789\n",
      "1297790\n",
      "1297791\n",
      "1297792\n",
      "1297793\n"
     ]
    }
   ],
   "source": [
    "search_fail_expnums = np.sort(np.array(search_expnums)[search_fail_idxs])\n",
    "for i in search_fail_expnums:\n",
    "    print(i)"
   ]
  },
  {
   "cell_type": "markdown",
   "metadata": {},
   "source": [
    "<h2>Making Template DAGs</h2>"
   ]
  },
  {
   "cell_type": "code",
   "execution_count": 5,
   "metadata": {},
   "outputs": [],
   "source": [
    "# FIRST PASS\n",
    "njobs = 60\n",
    "file_idx = 0\n",
    "\n",
    "for i, command in enumerate(template_commands):\n",
    "    if i%njobs==0:\n",
    "        with open(base_dir+'template_pass0_{:03d}.dag'.format(file_idx), 'w') as outfile:\n",
    "            outfile.write('<parallel>\\n')\n",
    "            outfile.write('jobsub -n --group=des --memory=500MB --disk=100MB --expected-lifetime=600s file://dummyjob.sh\\n')\n",
    "            for j in range(njobs):\n",
    "                try:\n",
    "                    command_edit = template_commands[i+j].strip().replace(' -j ', '  ').replace('--memory=2500MB', '--memory=4000MB')\n",
    "                    outfile.write(command_edit+' -O \\n')\n",
    "                except:\n",
    "                    break\n",
    "            outfile.write('</parallel>')\n",
    "        file_idx += 1"
   ]
  },
  {
   "cell_type": "code",
   "execution_count": 5,
   "metadata": {},
   "outputs": [],
   "source": [
    "# SECOND PASS FOR EXPOSURES WITH FAILED CCDS\n",
    "njobs = 60\n",
    "file_idx = 0\n",
    "\n",
    "for i in range(len(fail_idxs)):\n",
    "    if i%njobs==0:\n",
    "        with open(base_dir+'template_pass1_{:03d}.dag'.format(file_idx), 'w') as outfile:\n",
    "            outfile.write('<parallel>\\n')\n",
    "            outfile.write('jobsub -n --group=des --memory=500MB --disk=100MB --expected-lifetime=600s file://dummyjob.sh\\n')\n",
    "            for j in range(njobs):\n",
    "                try:\n",
    "                    command_edit = template_commands[fail_idxs[i+j]].strip().replace(' -j ', '  ').replace('--memory=2500MB', '--memory=6000MB')\n",
    "                    outfile.write(command_edit+' -O \\n')\n",
    "                except:\n",
    "                    break\n",
    "            outfile.write('</parallel>')\n",
    "        file_idx += 1"
   ]
  },
  {
   "cell_type": "code",
   "execution_count": 6,
   "metadata": {},
   "outputs": [],
   "source": [
    "# EXTRA PASSES FOR EXPOSURES WITH FAILED CCDS, CCD-WISE\n",
    "\n",
    "with open(base_dir+'template_pass2.dag', 'w') as outfile:\n",
    "    outfile.write('<parallel>\\n')\n",
    "    outfile.write('jobsub -n --group=des --memory=500MB --disk=100MB --expected-lifetime=600s file://dummyjob.sh\\n')\n",
    "    for i in range(len(fail_ccds)):\n",
    "        command = \"jobsub -n --group=des --singularity-image /cvmfs/singularity.opensciencegrid.org/fermilab/fnal-wn-sl7:latest --memory=32000MB --disk=70GB --cpu=1 --expected-lifetime=5h --email-to=alyssag94@brandeis.edu --disk=70GB --need-storage-modify /des/persistent/gw/exp --need-storage-modify /des/persistent/gw/forcephoto -e GFAL_PLUGIN_DIR=/usr/lib64/gfal2-plugins -e GFAL_CONFIG_DIR=/etc/gfal2.d --lines='+FERMIHTC_AutoRelease=True' --lines='+FERMIHTC_GraceLifetime=43200' --lines='+FERMIHTC_GraceMemory=5000' --append_condor_requirements='(TARGET.GLIDEIN_Site==\\\"FermiGrid\\\"||(TARGET.HAS_SINGULARITY==true&&TARGET.HAS_CVMFS_des_opensciencegrid_org==true&&TARGET.HAS_CVMFS_des_osgstorage_org==true))' file://SEdiff.sh -r 4 -p 12 -E {} -v gw8 -b {} -n {} -d persistent -m gw -c {} -C -t -S dp{} -O \\n\".format(*fail_ccds[i], season)\n",
    "        outfile.write(command)\n",
    "    outfile.write('</parallel>')"
   ]
  },
  {
   "cell_type": "code",
   "execution_count": null,
   "metadata": {},
   "outputs": [],
   "source": [
    "# EXTRA PASSES FOR EXPOSURES WITH FAILED CCDS (ONLY ONES THAT EXIST IN PNFS)\n",
    "njobs = 60\n",
    "file_idx = 0\n",
    "\n",
    "for i in range(len(fail_idxs)):\n",
    "    if i%njobs==0:\n",
    "        with open(base_dir+'template_pass5_{:03d}.dag'.format(file_idx), 'w') as outfile:\n",
    "            outfile.write('<parallel>\\n')\n",
    "            outfile.write('jobsub -n --group=des --memory=500MB --disk=100MB --expected-lifetime=600s file://dummyjob.sh\\n')\n",
    "            for j in range(njobs):\n",
    "                try:\n",
    "                    command_edit = template_commands[fail_idxs[i+j]].strip().replace(' -j ', '  ').replace('--memory=2500MB', '--memory=6000MB')\n",
    "                    outfile.write(command_edit+' -O \\n')\n",
    "                except:\n",
    "                    break\n",
    "            outfile.write('</parallel>')\n",
    "        file_idx += 1"
   ]
  },
  {
   "cell_type": "markdown",
   "metadata": {},
   "source": [
    "<h2>Running Searches as Templates for SE Processing</h2>"
   ]
  },
  {
   "cell_type": "code",
   "execution_count": 9,
   "metadata": {},
   "outputs": [],
   "source": [
    "# FIRST PASS FOR SEARCH SE PROCESSING\n",
    "\n",
    "njobs = 60\n",
    "file_idx = 0\n",
    "\n",
    "for i in range(len(search_expnums)):\n",
    "    if i%njobs==0:\n",
    "        with open(base_dir+'search_pass0_{:03d}.dag'.format(file_idx), 'w') as outfile:\n",
    "            outfile.write('<parallel>\\n')\n",
    "            outfile.write('jobsub -n --group=des --memory=500MB --disk=100MB --expected-lifetime=600s file://dummyjob.sh\\n')\n",
    "            for j in range(njobs):\n",
    "                try:\n",
    "                    command = \"jobsub -n --group=des --singularity-image /cvmfs/singularity.opensciencegrid.org/fermilab/fnal-wn-sl7:latest --memory=4000MB --disk=70GB --cpu=1 --expected-lifetime=5h --email-to=alyssag94@brandeis.edu --disk=70GB --need-storage-modify /des/persistent/gw/exp --need-storage-modify /des/persistent/gw/forcephoto -e GFAL_PLUGIN_DIR=/usr/lib64/gfal2-plugins -e GFAL_CONFIG_DIR=/etc/gfal2.d --lines='+FERMIHTC_AutoRelease=True' --lines='+FERMIHTC_GraceLifetime=43200' --lines='+FERMIHTC_GraceMemory=5000' -N 60 --append_condor_requirements='(TARGET.GLIDEIN_Site==\\\"FermiGrid\\\"||(TARGET.HAS_SINGULARITY==true&&TARGET.HAS_CVMFS_des_opensciencegrid_org==true&&TARGET.HAS_CVMFS_des_osgstorage_org==true))' file://SEdiff.sh -r 4 -p 12 -E {} -v gw8 -b {} -n {} -d persistent -m gw -c 0 -C -t -S dp{} -O \\n\".format(search_expnums[i+j], search_bands[i+j], search_nites[i+j], season)\n",
    "                    outfile.write(command)\n",
    "                except:\n",
    "                    break\n",
    "            outfile.write('</parallel>')\n",
    "        file_idx += 1"
   ]
  },
  {
   "cell_type": "code",
   "execution_count": 8,
   "metadata": {},
   "outputs": [],
   "source": [
    "# SECOND PASS FOR SEARCH SE PROCESSING\n",
    "\n",
    "njobs = 60\n",
    "file_idx = 0\n",
    "\n",
    "for i in range(len(np.array(search_expnums)[search_fail_idxs])):\n",
    "    if i%njobs==0:\n",
    "        with open(base_dir+'search_pass1_{:03d}.dag'.format(file_idx), 'w') as outfile:\n",
    "            outfile.write('<parallel>\\n')\n",
    "            outfile.write('jobsub -n --group=des --memory=500MB --disk=100MB --expected-lifetime=600s file://dummyjob.sh\\n')\n",
    "            for j in range(njobs):\n",
    "                try:\n",
    "                    command = \"jobsub -n --group=des --singularity-image /cvmfs/singularity.opensciencegrid.org/fermilab/fnal-wn-sl7:latest --memory=4000MB --disk=70GB --cpu=1 --expected-lifetime=5h --email-to=alyssag94@brandeis.edu --disk=70GB --need-storage-modify /des/persistent/gw/exp --need-storage-modify /des/persistent/gw/forcephoto -e GFAL_PLUGIN_DIR=/usr/lib64/gfal2-plugins -e GFAL_CONFIG_DIR=/etc/gfal2.d --lines='+FERMIHTC_AutoRelease=True' --lines='+FERMIHTC_GraceLifetime=43200' --lines='+FERMIHTC_GraceMemory=5000' -N 60 --append_condor_requirements='(TARGET.GLIDEIN_Site==\\\"FermiGrid\\\"||(TARGET.HAS_SINGULARITY==true&&TARGET.HAS_CVMFS_des_opensciencegrid_org==true&&TARGET.HAS_CVMFS_des_osgstorage_org==true))' file://SEdiff.sh -r 4 -p 12 -E {} -v gw8 -b {} -n {} -d persistent -m gw -c 0 -C -t -S dp{} -O \\n\".format(np.array(search_expnums)[search_fail_idxs][i+j], np.array(search_bands)[search_fail_idxs][i+j], np.array(search_nites)[search_fail_idxs][i+j], season)\n",
    "                    outfile.write(command)\n",
    "                except:\n",
    "                    break\n",
    "            outfile.write('</parallel>')\n",
    "        file_idx += 1"
   ]
  },
  {
   "cell_type": "markdown",
   "metadata": {},
   "source": [
    "<h2>Post Processing Analysis</h2>"
   ]
  },
  {
   "cell_type": "code",
   "execution_count": 7,
   "metadata": {},
   "outputs": [],
   "source": [
    "search_failfiles = []\n",
    "search_outfiles = []\n",
    "failtype = []\n",
    "for i in range(len(search_expnums)):\n",
    "    list_outfiles = glob(f'/pnfs/des/persistent/gw/exp/{search_nites[i]}/{search_expnums[i]}/dp{season}/*/*.gz')\n",
    "    if len(list_outfiles) > 0:\n",
    "        search_outfiles.append(len(list_outfiles))\n",
    "        list_failfiles = glob(f'/pnfs/des/persistent/gw/exp/{search_nites[i]}/{search_expnums[i]}/dp{season}/*/*.FAIL')\n",
    "        for i in range(len(list_failfiles)):\n",
    "            failtype.append(list_failfiles[i].split('/')[-1].split('_')[0])\n",
    "        if len(list_failfiles) > 0:\n",
    "            search_failfiles.append(len(list_failfiles))\n",
    "        else:\n",
    "            search_failfiles.append(0)\n",
    "    else:\n",
    "        search_outfiles.append(0)\n",
    "        search_failfiles.append(0)"
   ]
  },
  {
   "cell_type": "code",
   "execution_count": 8,
   "metadata": {},
   "outputs": [
    {
     "data": {
      "image/png": "[encoded data removed]",
      "text/plain": [
       "<Figure size 640x480 with 1 Axes>"
      ]
     },
     "metadata": {},
     "output_type": "display_data"
    }
   ],
   "source": [
    "fig, ax = plt.subplots()\n",
    "ax.hist(search_outfiles, bins=20, range=(0, 60), histtype='step', label='Output Files')\n",
    "ax.hist(search_failfiles, bins=20, range=(0, 60), histtype='step', label='Fail Files')\n",
    "ax.set_xlabel('# of CCDs')\n",
    "ax.set_ylabel('# of Exposures')\n",
    "fig.tight_layout()"
   ]
  },
  {
   "cell_type": "code",
   "execution_count": 9,
   "metadata": {},
   "outputs": [
    {
     "data": {
      "image/png": "[encoded data removed]",
      "text/plain": [
       "<Figure size 640x480 with 1 Axes>"
      ]
     },
     "metadata": {},
     "output_type": "display_data"
    }
   ],
   "source": [
    "failnames, failnums = np.unique(failtype, return_counts=True)\n",
    "\n",
    "fig, ax = plt.subplots()\n",
    "ax.bar(failnames, failnums)\n",
    "ax.set_ylabel('# of CCDs')\n",
    "fig.tight_layout()"
   ]
  },
  {
   "cell_type": "code",
   "execution_count": 10,
   "metadata": {},
   "outputs": [
    {
     "name": "stdout",
     "output_type": "stream",
     "text": [
      "91% output rate, 16% fail rate, 76% success rate\n"
     ]
    }
   ],
   "source": [
    "print('{:.0%} output rate, {:.0%} fail rate, {:.0%} success rate'.format(\n",
    "    np.sum(search_outfiles)/(np.max(search_outfiles)*len(search_outfiles)),\n",
    "    np.sum(search_failfiles)/(np.max(search_outfiles)*len(search_outfiles)),\n",
    "    (np.sum(search_outfiles)-np.sum(search_failfiles))/(np.max(search_outfiles)*len(search_outfiles)))) "
   ]
  },
  {
   "cell_type": "code",
   "execution_count": null,
   "metadata": {},
   "outputs": [],
   "source": []
  }
 ],
 "metadata": {
  "kernelspec": {
   "display_name": "Python 3 (ipykernel)",
   "language": "python",
   "name": "python3"
  },
  "language_info": {
   "codemirror_mode": {
    "name": "ipython",
    "version": 3
   },
   "file_extension": ".py",
   "mimetype": "text/x-python",
   "name": "python",
   "nbconvert_exporter": "python",
   "pygments_lexer": "ipython3",
   "version": "3.9.16"
  }
 },
 "nbformat": 4,
 "nbformat_minor": 4
}
